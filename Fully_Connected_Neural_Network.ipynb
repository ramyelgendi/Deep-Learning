{
  "nbformat": 4,
  "nbformat_minor": 0,
  "metadata": {
    "colab": {
      "name": "HW2_900170269.ipynb",
      "provenance": [],
      "collapsed_sections": [
        "R9O1NjxYjv8a",
        "GpQ-X57CjbmR",
        "DPx_j-qDjgpw",
        "GO6TiVmbjkhk"
      ]
    },
    "kernelspec": {
      "display_name": "Python 3",
      "name": "python3"
    }
  },
  "cells": [
    {
      "cell_type": "markdown",
      "metadata": {
        "id": "cy5p0juzjq5e"
      },
      "source": [
        "# **Store On Google Drive**"
      ]
    },
    {
      "cell_type": "code",
      "metadata": {
        "id": "mj-dXMumKaRs",
        "colab": {
          "base_uri": "https://localhost:8080/"
        },
        "outputId": "b21e5c00-5b12-4039-82a6-0eaf4fec6f16"
      },
      "source": [
        "# Google Drive Mounting\n",
        "#from google.colab import driveimport tensorflow as tf\n",
        "import tensorflow as tf\n",
        "import os\n",
        "#drive.mount(\"/content/drive\")\n",
        "#datadir = 'drive/My Drive/Practical Deep Machine Learning/HW/flower_photos'\n",
        "numberOfTestPerClass = 100 \n",
        "pixels = 32\n",
        "#!ls 'drive/My Drive/Practical Deep Machine Learning/HW/flower_photos'\n",
        "\n",
        "_URL = \"http://download.tensorflow.org/example_images/flower_photos.tgz\"\n",
        "\n",
        "zip_file = tf.keras.utils.get_file(origin=_URL,\n",
        "                                   fname=\"flower_photos.tgz\",\n",
        "                                   extract=True)\n",
        "\n",
        "datadir = os.path.join(os.path.dirname(zip_file), 'flower_photos')\n",
        "print(datadir)"
      ],
      "execution_count": null,
      "outputs": [
        {
          "output_type": "stream",
          "name": "stdout",
          "text": [
            "Drive already mounted at /content/drive; to attempt to forcibly remount, call drive.mount(\"/content/drive\", force_remount=True).\n",
            "daisy  dandelion  roses  sunflowers  tulips\n"
          ]
        }
      ]
    },
    {
      "cell_type": "markdown",
      "metadata": {
        "id": "R9O1NjxYjv8a"
      },
      "source": [
        "# **Store Locally**"
      ]
    },
    {
      "cell_type": "code",
      "metadata": {
        "id": "Go9OtlXW_a4n"
      },
      "source": [
        "#datadir = '/home/ramyelgendi/Downloads/flower_photos'"
      ],
      "execution_count": null,
      "outputs": []
    },
    {
      "cell_type": "markdown",
      "metadata": {
        "id": "b3ACpuiCjOn3"
      },
      "source": [
        "# **Data Preprocessing**"
      ]
    },
    {
      "cell_type": "code",
      "metadata": {
        "id": "_4NSI5VPqMCk"
      },
      "source": [
        "import os\n",
        "def NavigateDirectory(Directory,numberOfTestPerClass):\n",
        "  Folders = []\n",
        "  ImageNamesTrain = []\n",
        "  ImageNamesVal = []\n",
        "  ImageNamesTest = []\n",
        "\n",
        "  for file in os.listdir(Directory):    # Get Folders\n",
        "    if(os.path.isdir(Directory+'/'+file)):\n",
        "      Folders.append(file)\n",
        "\n",
        "  for folder in Folders:                # Get Images\n",
        "    temp=[]\n",
        "    sortedtemp=[]\n",
        "    for filename in os.listdir(Directory+'/'+folder):\n",
        "      if filename.endswith(\"jpg\"): temp.append(filename)\n",
        "    \n",
        "    sortedtemp = sorted(temp);\n",
        "    ImageNamesTrain.append(sortedtemp[:-numberOfTestPerClass*2])\n",
        "    ImageNamesVal.append(sortedtemp[-numberOfTestPerClass*2:-numberOfTestPerClass])\n",
        "    ImageNamesTest.append(sortedtemp[-numberOfTestPerClass:])\n",
        "\n",
        "\n",
        "\n",
        "  return Folders,ImageNamesTrain,ImageNamesVal,ImageNamesTest"
      ],
      "execution_count": null,
      "outputs": []
    },
    {
      "cell_type": "code",
      "metadata": {
        "colab": {
          "base_uri": "https://localhost:8080/"
        },
        "id": "W7bFMW0eeBmc",
        "outputId": "b746b770-5d1b-4e0a-a26f-895b760330e9"
      },
      "source": [
        "# Get Class names from Folders & image files (jpg)\n",
        "Folders, ImageNamesTrain, ImageNamesVal, ImageNamesTest = NavigateDirectory(datadir,numberOfTestPerClass)\n",
        "Folders = list(enumerate(Folders))\n",
        "print(Folders)"
      ],
      "execution_count": null,
      "outputs": [
        {
          "output_type": "stream",
          "name": "stdout",
          "text": [
            "[(0, 'roses'), (1, 'daisy'), (2, 'dandelion'), (3, 'sunflowers'), (4, 'tulips')]\n"
          ]
        }
      ]
    },
    {
      "cell_type": "code",
      "metadata": {
        "id": "ndQBRgVQeGpd"
      },
      "source": [
        "import cv2\n",
        "from google.colab.patches import cv2_imshow\n",
        "import numpy as np\n",
        "\n",
        "def Load(Directory,Folders, ImageNames):\n",
        "  Images = []\n",
        "  ImagesLabels = []\n",
        "  \n",
        "  for folder,listOfImages in zip(Folders,ImageNames):\n",
        "    for name in listOfImages:\n",
        "      image = cv2.imread(Directory+'/'+folder[1]+'/'+name)\n",
        "      image = cv2.resize(image, (pixels,pixels),cv2.INTER_AREA) \n",
        "      Images.append(image)     \n",
        "      ImagesLabels.append(folder[0]) # Number not name\n",
        "\n",
        "\n",
        "  X = np.array(Images)\n",
        "  Y = np.array(ImagesLabels)\n",
        "\n",
        "  return X,Y"
      ],
      "execution_count": null,
      "outputs": []
    },
    {
      "cell_type": "code",
      "metadata": {
        "colab": {
          "base_uri": "https://localhost:8080/",
          "height": 354
        },
        "id": "AIYiTMZHeHck",
        "outputId": "f1c4ffa6-ec03-410c-a8ab-1353ba99ae66"
      },
      "source": [
        "import time\n",
        "import numpy as np\n",
        "import matplotlib.pyplot as plt\n",
        "\n",
        "\n",
        "# Images Loading\n",
        "try:\n",
        "   del TrainData, TrainLabels\n",
        "   del TestData, TestLabels\n",
        "   print('Clear previously loaded data.')\n",
        "except:\n",
        "   pass\n",
        "\n",
        "TrainData,TrainLabels = Load(datadir,Folders,ImageNamesTrain)\n",
        "ValData,ValLabels = Load(datadir,Folders,ImageNamesVal)\n",
        "TestData,TestLabels = Load(datadir,Folders,ImageNamesTest)\n",
        "\n",
        "TrainData = np.array(TrainData).astype(np.float32)\n",
        "ValData = np.array(ValData).astype(np.float32)\n",
        "TestData = np.array(TestData).astype(np.float32)\n",
        "\n",
        "# Normalize the data: subtract the mean image\n",
        "mean_image = np.mean(TrainData, axis=0)\n",
        "TrainData -= mean_image\n",
        "ValData -= mean_image\n",
        "TestData -= mean_image\n",
        "\n",
        "# Transpose so that channels come first\n",
        "TrainData = TrainData.transpose(0, 3, 1, 2).copy()\n",
        "ValData = ValData.transpose(0, 3, 1, 2).copy()\n",
        "TestData = TestData.transpose(0, 3, 1, 2).copy()\n",
        "\n",
        "print(\"Training data shape: \",TrainData.shape)\n",
        "print(\"Training labels shape: \",TrainLabels.shape)\n",
        "print(\"Val data shape: \",ValData.shape)\n",
        "print(\"Val labels shape: \",ValLabels.shape)\n",
        "print(\"Test data shape: \",TestData.shape)\n",
        "print(\"Test labels shape: \",TestLabels.shape)"
      ],
      "execution_count": null,
      "outputs": [
        {
          "output_type": "stream",
          "name": "stderr",
          "text": [
            "/usr/local/lib/python3.7/dist-packages/numpy/core/fromnumeric.py:3373: RuntimeWarning: Mean of empty slice.\n",
            "  out=out, **kwargs)\n",
            "/usr/local/lib/python3.7/dist-packages/numpy/core/_methods.py:170: RuntimeWarning: invalid value encountered in true_divide\n",
            "  ret = ret.dtype.type(ret / rcount)\n"
          ]
        },
        {
          "output_type": "error",
          "ename": "ValueError",
          "evalue": "ignored",
          "traceback": [
            "\u001b[0;31m---------------------------------------------------------------------------\u001b[0m",
            "\u001b[0;31mValueError\u001b[0m                                Traceback (most recent call last)",
            "\u001b[0;32m<ipython-input-9-06cf1f4fe45a>\u001b[0m in \u001b[0;36m<module>\u001b[0;34m()\u001b[0m\n\u001b[1;32m     27\u001b[0m \u001b[0;34m\u001b[0m\u001b[0m\n\u001b[1;32m     28\u001b[0m \u001b[0;31m# Transpose so that channels come first\u001b[0m\u001b[0;34m\u001b[0m\u001b[0;34m\u001b[0m\u001b[0;34m\u001b[0m\u001b[0m\n\u001b[0;32m---> 29\u001b[0;31m \u001b[0mTrainData\u001b[0m \u001b[0;34m=\u001b[0m \u001b[0mTrainData\u001b[0m\u001b[0;34m.\u001b[0m\u001b[0mtranspose\u001b[0m\u001b[0;34m(\u001b[0m\u001b[0;36m0\u001b[0m\u001b[0;34m,\u001b[0m \u001b[0;36m3\u001b[0m\u001b[0;34m,\u001b[0m \u001b[0;36m1\u001b[0m\u001b[0;34m,\u001b[0m \u001b[0;36m2\u001b[0m\u001b[0;34m)\u001b[0m\u001b[0;34m.\u001b[0m\u001b[0mcopy\u001b[0m\u001b[0;34m(\u001b[0m\u001b[0;34m)\u001b[0m\u001b[0;34m\u001b[0m\u001b[0;34m\u001b[0m\u001b[0m\n\u001b[0m\u001b[1;32m     30\u001b[0m \u001b[0mValData\u001b[0m \u001b[0;34m=\u001b[0m \u001b[0mValData\u001b[0m\u001b[0;34m.\u001b[0m\u001b[0mtranspose\u001b[0m\u001b[0;34m(\u001b[0m\u001b[0;36m0\u001b[0m\u001b[0;34m,\u001b[0m \u001b[0;36m3\u001b[0m\u001b[0;34m,\u001b[0m \u001b[0;36m1\u001b[0m\u001b[0;34m,\u001b[0m \u001b[0;36m2\u001b[0m\u001b[0;34m)\u001b[0m\u001b[0;34m.\u001b[0m\u001b[0mcopy\u001b[0m\u001b[0;34m(\u001b[0m\u001b[0;34m)\u001b[0m\u001b[0;34m\u001b[0m\u001b[0;34m\u001b[0m\u001b[0m\n\u001b[1;32m     31\u001b[0m \u001b[0mTestData\u001b[0m \u001b[0;34m=\u001b[0m \u001b[0mTestData\u001b[0m\u001b[0;34m.\u001b[0m\u001b[0mtranspose\u001b[0m\u001b[0;34m(\u001b[0m\u001b[0;36m0\u001b[0m\u001b[0;34m,\u001b[0m \u001b[0;36m3\u001b[0m\u001b[0;34m,\u001b[0m \u001b[0;36m1\u001b[0m\u001b[0;34m,\u001b[0m \u001b[0;36m2\u001b[0m\u001b[0;34m)\u001b[0m\u001b[0;34m.\u001b[0m\u001b[0mcopy\u001b[0m\u001b[0;34m(\u001b[0m\u001b[0;34m)\u001b[0m\u001b[0;34m\u001b[0m\u001b[0;34m\u001b[0m\u001b[0m\n",
            "\u001b[0;31mValueError\u001b[0m: axes don't match array"
          ]
        }
      ]
    },
    {
      "cell_type": "markdown",
      "metadata": {
        "id": "GpQ-X57CjbmR"
      },
      "source": [
        "# **Gradient & Activation Functions**"
      ]
    },
    {
      "cell_type": "code",
      "metadata": {
        "id": "Lzlc0sKAj83R"
      },
      "source": [
        "# GRADIENT FUNCTIONS --------------------------------------------------\n",
        "\n",
        "def gradient_forwardprop(x, w, b):\n",
        "    out = None\n",
        "    X = x.reshape(x.shape[0], w.shape[0])\n",
        "    z = np.einsum('ij,kj->ik', X, w.T,optimize=False)\n",
        "    out = z+b\n",
        "    cache = (x, w, b)\n",
        "\n",
        "    return out, cache\n",
        "    \n",
        "def gradient_backwardprop(dout, cache):\n",
        "    x, w, b = cache\n",
        "    dx, dw, db = None, None, None\n",
        "    dim_shape = np.prod(x[0].shape)\n",
        "    N = x.shape[0]\n",
        "    X = x.reshape(N, dim_shape)   # input gradient\n",
        "    dx = np.einsum('ij,kj->ik', dout, w,optimize=False)\n",
        "    dx = dx.reshape(x.shape)      # weight gradient\n",
        "    dw = np.einsum('ij,kj->ik', X.T, dout.T,optimize=False )\n",
        "    db = dout.sum(axis=0)\n",
        "\n",
        "    return dx, dw, db\n",
        "\n",
        "def softmax_loss(x, y):\n",
        "    shifted_logits = x - np.max(x, axis=1, keepdims=True)\n",
        "    Z = np.sum(np.exp(shifted_logits), axis=1, keepdims=True)\n",
        "    log_probs = shifted_logits - np.log(Z)\n",
        "    probs = np.exp(log_probs)\n",
        "    N = x.shape[0]\n",
        "    loss = -np.sum(log_probs[np.arange(N), y]) / N\n",
        "    dx = probs.copy()\n",
        "    dx[np.arange(N), y] -= 1\n",
        "    dx /= N\n",
        "    return loss, dx\n",
        "\n",
        "def forward_relu_fullyconnected(x, w, b, gamma, beta):\n",
        "    bn_cache, do_cache = None, None\n",
        "    \n",
        "    out, fc_cache = gradient_forwardprop(x,w,b)   # Forward Prop\n",
        "    relu_cache = out\n",
        "    out = np.maximum(0,out)\n",
        "    return out, (fc_cache, bn_cache, relu_cache, do_cache)\n",
        "\n",
        "def backward_relu_fullyconnected(dout, cache):\n",
        "    fc_cache, bn_cache, relu_cache, do_cache = cache\n",
        "    dout = dout * (cache > 0)\n",
        "    dgamma, dbeta = None, None      # batch/layer norm\n",
        "    dx, dw, db = gradient_backwardprop(dout, fc_cache)     # Backward Prop\n",
        "    return dx, dw, db, dgamma, dbeta\n",
        "\n",
        "\n",
        "def adam(w, dw, config=None):\n",
        "    if config is None: config = {}\n",
        "    config.setdefault('learning_rate', 1e-3)\n",
        "    config.setdefault('beta1', 0.9)\n",
        "    config.setdefault('beta2', 0.999)\n",
        "    config.setdefault('epsilon', 1e-8)\n",
        "    config.setdefault('m', np.zeros_like(w))\n",
        "    config.setdefault('v', np.zeros_like(w))\n",
        "    config.setdefault('t', 0)\n",
        "\n",
        "    next_w = None\n",
        "    eps, learning_rate = config['epsilon'], config['learning_rate']\n",
        "    beta1, beta2 = config['beta1'], config['beta2']\n",
        "    m, v, t = config['m'], config['v'], config['t']\n",
        "    # Adam\n",
        "    t = t + 1\n",
        "    m = beta1 * m + (1 - beta1) * dw          # momentum\n",
        "    mt = m / (1 - beta1**t)                   # bias correction\n",
        "    v = beta2 * v + (1 - beta2) * (dw * dw)   # RMSprop\n",
        "    vt = v / (1 - beta2**t)                   # bias correction\n",
        "    next_w = w - learning_rate * mt / (np.sqrt(vt) + eps)\n",
        "    # update values\n",
        "    config['m'], config['v'], config['t'] = m, v, t\n",
        "\n",
        "    return next_w, config"
      ],
      "execution_count": null,
      "outputs": []
    },
    {
      "cell_type": "markdown",
      "metadata": {
        "id": "DPx_j-qDjgpw"
      },
      "source": [
        "# **Fully Connected Neural Network**"
      ]
    },
    {
      "cell_type": "code",
      "metadata": {
        "id": "20yPKc6Xj8-B"
      },
      "source": [
        "class FCNN(object):\n",
        "\n",
        "    def __init__(self, data,hidden_dims, input_dim, num_classes, reg, weight_scale,num_epochs,batch_size,learning_rate):\n",
        "\n",
        "        self.reg = reg\n",
        "        self.num_layers = 1 + len(hidden_dims)\n",
        "        self.params = {}\n",
        "        \n",
        "        layers_dims = np.hstack([input_dim, hidden_dims, num_classes])\n",
        "        for i in range(self.num_layers):\n",
        "            self.params['W'+str(i+1)] = weight_scale*np.random.randn(layers_dims[i],layers_dims[i+1])\n",
        "            self.params['b'+str(i+1)] = np.zeros(layers_dims[i+1])\n",
        "\n",
        "        # Cast all parameters to the correct datatype\n",
        "        for k, v in self.params.items():\n",
        "            self.params[k] = v.astype(np.float32)\n",
        "\n",
        "        self.TrainData = data['TrainData']\n",
        "        self.TrainLabels = data['TrainLabels']\n",
        "        self.ValData = data['ValData']\n",
        "        self.ValLabels = data['ValLabels']\n",
        "\n",
        "\n",
        "        # Unpack keyword arguments\n",
        "        self.optim_config = {\"learning_rate\":learning_rate} \n",
        "        self.batch_size = batch_size \n",
        "        self.num_epochs = num_epochs\n",
        "        self.num_train_samples = len(data['TrainData'])\n",
        "        self.num_val_samples = len(data['ValData'])\n",
        "\n",
        "        # Declaration\n",
        "        self.epoch = 0\n",
        "        self.best_val_acc = 0\n",
        "        self.best_params = {}\n",
        "        self.train_loss_history = []\n",
        "        self.val_loss_history = []\n",
        "        self.loss_history = []\n",
        "        self.train_acc_history = []\n",
        "        self.val_acc_history = []\n",
        "\n",
        "        # Make a deep copy of the optim_config for each parameter\n",
        "        self.optim_configs = {}\n",
        "        for p in self.params:\n",
        "            d = {k: v for k, v in self.optim_config.items()}\n",
        "            self.optim_configs[p] = d\n",
        "\n",
        "    def loss(self, X, y=None):\n",
        "        X = X.astype(np.float32)\n",
        "        mode = 'test' if y is None else 'train'\n",
        "\n",
        "        scores = None\n",
        "        x = X\n",
        "        caches = []\n",
        "        gamma, beta = None, None\n",
        "        for i in range(self.num_layers-1):\n",
        "            w = self.params['W'+str(i+1)]\n",
        "            b = self.params['b'+str(i+1)]\n",
        "            x, cache = forward_relu_fullyconnected(x,w,b, gamma, beta )\n",
        "            caches.append(cache)\n",
        "        w = self.params['W'+str(self.num_layers)]\n",
        "        b = self.params['b'+str(self.num_layers)]\n",
        "        scores, cache = gradient_forwardprop(x,w,b)\n",
        "        caches.append(cache)\n",
        "        if mode == 'test':\n",
        "            return scores\n",
        "\n",
        "        loss, grads = 0.0, {}\n",
        "        loss, softmax_grad = softmax_loss(scores, y)\n",
        "        for i in range(self.num_layers):\n",
        "            w = self.params['W'+str(i+1)]\n",
        "            loss += 0.5 * self.reg * np.sum(w * w) \n",
        "\n",
        "        # calculate gradients\n",
        "        dout = softmax_grad\n",
        "        dout, dw, db = gradient_backwardprop(dout, caches[self.num_layers - 1])\n",
        "        grads['W' + str(self.num_layers)] = dw + self.reg * self.params['W' + str(self.num_layers)]\n",
        "        grads['b' + str(self.num_layers)] = db\n",
        "\n",
        "        for i in range(self.num_layers - 2, -1, -1):\n",
        "            dx, dw, db, dgamma, dbeta = backward_relu_fullyconnected(dout, caches[i])\n",
        "\n",
        "            grads['W' + str(i + 1)] = dw + self.reg * self.params['W' + str(i + 1)]\n",
        "            grads['b' + str(i + 1)] = db\n",
        "            dout = dx\n",
        "        return loss, grads\n",
        "\n",
        "    def check_accuracy(self, X, y, num_samples=None, batch_size=100):\n",
        "        # Maybe subsample the data\n",
        "        N = X.shape[0]\n",
        "        if num_samples is not None and N > num_samples:\n",
        "            mask = np.random.choice(N, num_samples)\n",
        "            N = num_samples\n",
        "            X = X[mask]\n",
        "            y = y[mask]\n",
        "\n",
        "        # Compute predictions in batches\n",
        "        num_batches = N // batch_size\n",
        "        if N % batch_size != 0:\n",
        "            num_batches += 1\n",
        "        y_pred = []\n",
        "        for i in range(num_batches):\n",
        "            start = i * batch_size\n",
        "            end = (i + 1) * batch_size\n",
        "            scores = self.loss(X[start:end])\n",
        "            y_pred.append(np.argmax(scores, axis=1))\n",
        "        y_pred = np.hstack(y_pred)\n",
        "        acc = np.mean(y_pred == y)\n",
        "\n",
        "        return acc\n",
        "\n",
        "\n",
        "    def train(self):\n",
        "        \"\"\"\n",
        "        Run optimization to train the model.\n",
        "        \"\"\"\n",
        "        num_train = self.TrainData.shape[0]\n",
        "        iterations_per_epoch = max(num_train // self.batch_size, 1)\n",
        "        num_iterations = self.num_epochs * iterations_per_epoch\n",
        "\n",
        "        for t in range(num_iterations):\n",
        "          # Make a minibatch of training data\n",
        "          num_train = self.TrainData.shape[0]\n",
        "          batch_mask = np.random.choice(num_train, self.batch_size)\n",
        "          X_batch = self.TrainData[batch_mask]\n",
        "          y_batch = self.TrainLabels[batch_mask]\n",
        "\n",
        "          # Compute loss and gradient\n",
        "          loss, grads = self.loss(X_batch, y_batch)\n",
        "          self.loss_history.append(loss)\n",
        "\n",
        "          # Perform a parameter update\n",
        "          for p, w in self.params.items():\n",
        "            dw = grads[p]\n",
        "            next_w, next_config = adam(w, dw, self.optim_configs[p])\n",
        "            self.params[p] = next_w\n",
        "            self.optim_configs[p] = next_config\n",
        "\n",
        "          # At the end of every epoch, increment the epoch counter and decay the learning rate.\n",
        "          epoch_end = (t + 1) % iterations_per_epoch == 0\n",
        "          if epoch_end:\n",
        "              self.epoch += 1\n",
        "\n",
        "          # Check train and val accuracy on the first iteration, the last iteration, and at the end of each epoch.\n",
        "          first_it = (t == 0)\n",
        "          last_it = (t == num_iterations - 1)\n",
        "          if first_it or last_it or epoch_end:\n",
        "              train_acc = self.check_accuracy(self.TrainData, self.TrainLabels,num_samples=self.num_train_samples)\n",
        "              val_acc = self.check_accuracy(self.ValData, self.ValLabels,num_samples=self.num_val_samples)\n",
        "              self.train_acc_history.append(train_acc)\n",
        "              self.val_acc_history.append(val_acc)\n",
        "\n",
        "              train_loss = self.loss(self.TrainData,self.TrainLabels)[0]\n",
        "              val_loss = self.loss(self.ValData,self.ValLabels)[0]\n",
        "              self.train_loss_history.append(train_loss)\n",
        "              self.val_loss_history.append(val_loss)\n",
        "\n",
        "              print('Epoch',self.epoch,'/',self.num_epochs,': Training Loss: ',train_loss,' Validation Loss: ',val_loss,' Training Accuracy: ',train_acc,' Validation Accuracy: ',val_acc)\n",
        "\n",
        "              # Keep track of the best model\n",
        "              if val_acc > self.best_val_acc:\n",
        "                  self.best_val_acc = val_acc\n",
        "                  self.best_params = {}\n",
        "                  for k, v in self.params.items():\n",
        "                      self.best_params[k] = v.copy()\n",
        "\n",
        "        # At the end of training swap the best params into the model\n",
        "        self.params = self.best_params"
      ],
      "execution_count": null,
      "outputs": []
    },
    {
      "cell_type": "markdown",
      "metadata": {
        "id": "GO6TiVmbjkhk"
      },
      "source": [
        "# **Main Function**"
      ]
    },
    {
      "cell_type": "code",
      "metadata": {
        "colab": {
          "base_uri": "https://localhost:8080/"
        },
        "id": "raOoUXnfj9M6",
        "outputId": "c7be60be-9345-4a9a-86c7-750596ce5bba"
      },
      "source": [
        "np.random.seed(500)\n",
        "data = {\n",
        "  'TrainData':TrainData,\n",
        "  'TrainLabels': TrainLabels,\n",
        "  'ValData': ValData,\n",
        "  'ValLabels': ValLabels,\n",
        "}\n",
        "\n",
        "# Obtained with random search\n",
        "weight_scale =      2e-2 \n",
        "learning_rate =     10**np.random.uniform(-3, -6)\n",
        "reg =               10**np.random.uniform(-3, -4)\n",
        "hidden_dims =       [100]*3\n",
        "input_dim =         3*pixels*pixels\n",
        "num_classes =       5\n",
        "epochs =            87\n",
        "batch_size=         100\n",
        "\n",
        "model = FCNN(data,hidden_dims,input_dim,num_classes,reg,weight_scale,epochs,batch_size,learning_rate)\n",
        "model.train()"
      ],
      "execution_count": null,
      "outputs": [
        {
          "output_type": "stream",
          "name": "stdout",
          "text": [
            "Epoch 0 / 87 : Training Loss:  1.6900238066262847  Validation Loss:  1.706227888529521  Training Accuracy:  0.171  Validation Accuracy:  0.156\n",
            "Epoch 1 / 87 : Training Loss:  1.6632967016528353  Validation Loss:  1.6867128740947535  Training Accuracy:  0.249  Validation Accuracy:  0.206\n",
            "Epoch 2 / 87 : Training Loss:  1.6385252392954812  Validation Loss:  1.6684927356745192  Training Accuracy:  0.302  Validation Accuracy:  0.234\n",
            "Epoch 3 / 87 : Training Loss:  1.616714340096014  Validation Loss:  1.6519343062272172  Training Accuracy:  0.303  Validation Accuracy:  0.264\n",
            "Epoch 4 / 87 : Training Loss:  1.595508291121015  Validation Loss:  1.6367950795471033  Training Accuracy:  0.349  Validation Accuracy:  0.276\n",
            "Epoch 5 / 87 : Training Loss:  1.5753575409057428  Validation Loss:  1.622575077974885  Training Accuracy:  0.342  Validation Accuracy:  0.288\n",
            "Epoch 6 / 87 : Training Loss:  1.554765422298918  Validation Loss:  1.607769416329817  Training Accuracy:  0.368  Validation Accuracy:  0.298\n",
            "Epoch 7 / 87 : Training Loss:  1.5329550505078018  Validation Loss:  1.5901676215554668  Training Accuracy:  0.39  Validation Accuracy:  0.298\n",
            "Epoch 8 / 87 : Training Loss:  1.5112073772637702  Validation Loss:  1.5732536021364878  Training Accuracy:  0.39  Validation Accuracy:  0.318\n",
            "Epoch 9 / 87 : Training Loss:  1.4890592383001058  Validation Loss:  1.5568384857983502  Training Accuracy:  0.474  Validation Accuracy:  0.318\n",
            "Epoch 10 / 87 : Training Loss:  1.4657411001533198  Validation Loss:  1.5382973773105353  Training Accuracy:  0.457  Validation Accuracy:  0.326\n",
            "Epoch 11 / 87 : Training Loss:  1.442198665838614  Validation Loss:  1.5204171881569073  Training Accuracy:  0.445  Validation Accuracy:  0.328\n",
            "Epoch 12 / 87 : Training Loss:  1.4181257524025146  Validation Loss:  1.5021339068822666  Training Accuracy:  0.451  Validation Accuracy:  0.33\n",
            "Epoch 13 / 87 : Training Loss:  1.3948478991308675  Validation Loss:  1.4784538406175833  Training Accuracy:  0.503  Validation Accuracy:  0.36\n",
            "Epoch 14 / 87 : Training Loss:  1.3712274537267999  Validation Loss:  1.4643587899532453  Training Accuracy:  0.478  Validation Accuracy:  0.36\n",
            "Epoch 15 / 87 : Training Loss:  1.3478242672217466  Validation Loss:  1.448219030725375  Training Accuracy:  0.515  Validation Accuracy:  0.374\n",
            "Epoch 16 / 87 : Training Loss:  1.325966906940341  Validation Loss:  1.4352711335906219  Training Accuracy:  0.463  Validation Accuracy:  0.386\n",
            "Epoch 17 / 87 : Training Loss:  1.305167693787377  Validation Loss:  1.4205522321878628  Training Accuracy:  0.524  Validation Accuracy:  0.396\n",
            "Epoch 18 / 87 : Training Loss:  1.2856482567012053  Validation Loss:  1.4079856476151509  Training Accuracy:  0.523  Validation Accuracy:  0.396\n",
            "Epoch 19 / 87 : Training Loss:  1.2672101443799582  Validation Loss:  1.4001136164802623  Training Accuracy:  0.497  Validation Accuracy:  0.392\n",
            "Epoch 20 / 87 : Training Loss:  1.2499473431734296  Validation Loss:  1.3905217297129602  Training Accuracy:  0.543  Validation Accuracy:  0.408\n",
            "Epoch 21 / 87 : Training Loss:  1.2343387359022056  Validation Loss:  1.3795767972427662  Training Accuracy:  0.541  Validation Accuracy:  0.418\n",
            "Epoch 22 / 87 : Training Loss:  1.219558093243386  Validation Loss:  1.3763448057755725  Training Accuracy:  0.544  Validation Accuracy:  0.42\n",
            "Epoch 23 / 87 : Training Loss:  1.205036269269016  Validation Loss:  1.3712601078179978  Training Accuracy:  0.547  Validation Accuracy:  0.418\n",
            "Epoch 24 / 87 : Training Loss:  1.1909941396467236  Validation Loss:  1.3643413432764637  Training Accuracy:  0.552  Validation Accuracy:  0.428\n",
            "Epoch 25 / 87 : Training Loss:  1.1780991324697372  Validation Loss:  1.3568495165111698  Training Accuracy:  0.579  Validation Accuracy:  0.436\n",
            "Epoch 26 / 87 : Training Loss:  1.1653640189356027  Validation Loss:  1.3545189421638917  Training Accuracy:  0.563  Validation Accuracy:  0.44\n",
            "Epoch 27 / 87 : Training Loss:  1.1530170641991224  Validation Loss:  1.3490733811320579  Training Accuracy:  0.571  Validation Accuracy:  0.444\n",
            "Epoch 28 / 87 : Training Loss:  1.1422651485294257  Validation Loss:  1.342160828246186  Training Accuracy:  0.603  Validation Accuracy:  0.446\n",
            "Epoch 29 / 87 : Training Loss:  1.131570746368342  Validation Loss:  1.3413405894234098  Training Accuracy:  0.558  Validation Accuracy:  0.448\n",
            "Epoch 30 / 87 : Training Loss:  1.1220409141537064  Validation Loss:  1.3476962031357405  Training Accuracy:  0.588  Validation Accuracy:  0.436\n",
            "Epoch 31 / 87 : Training Loss:  1.110615475707209  Validation Loss:  1.346465822076006  Training Accuracy:  0.596  Validation Accuracy:  0.436\n",
            "Epoch 32 / 87 : Training Loss:  1.1007739878192415  Validation Loss:  1.34151039732445  Training Accuracy:  0.593  Validation Accuracy:  0.456\n",
            "Epoch 33 / 87 : Training Loss:  1.0907248476948002  Validation Loss:  1.3416621849343835  Training Accuracy:  0.59  Validation Accuracy:  0.448\n",
            "Epoch 34 / 87 : Training Loss:  1.0810138480595224  Validation Loss:  1.3412801003271955  Training Accuracy:  0.609  Validation Accuracy:  0.466\n",
            "Epoch 35 / 87 : Training Loss:  1.072152051311947  Validation Loss:  1.3331077169289003  Training Accuracy:  0.643  Validation Accuracy:  0.468\n",
            "Epoch 36 / 87 : Training Loss:  1.061910280813426  Validation Loss:  1.331833968123234  Training Accuracy:  0.596  Validation Accuracy:  0.456\n",
            "Epoch 37 / 87 : Training Loss:  1.0522987619373754  Validation Loss:  1.337097875350297  Training Accuracy:  0.597  Validation Accuracy:  0.456\n",
            "Epoch 38 / 87 : Training Loss:  1.0427657855802483  Validation Loss:  1.338411370658227  Training Accuracy:  0.627  Validation Accuracy:  0.47\n",
            "Epoch 39 / 87 : Training Loss:  1.0335910699516602  Validation Loss:  1.33115116832113  Training Accuracy:  0.618  Validation Accuracy:  0.468\n",
            "Epoch 40 / 87 : Training Loss:  1.0243440237408423  Validation Loss:  1.3303242533793314  Training Accuracy:  0.638  Validation Accuracy:  0.47\n",
            "Epoch 41 / 87 : Training Loss:  1.0155498575121074  Validation Loss:  1.3306829918754033  Training Accuracy:  0.651  Validation Accuracy:  0.48\n",
            "Epoch 42 / 87 : Training Loss:  1.006148813928026  Validation Loss:  1.3331378294286695  Training Accuracy:  0.66  Validation Accuracy:  0.478\n",
            "Epoch 43 / 87 : Training Loss:  0.997830641216099  Validation Loss:  1.334487286230144  Training Accuracy:  0.646  Validation Accuracy:  0.464\n",
            "Epoch 44 / 87 : Training Loss:  0.989033302747814  Validation Loss:  1.3468957674525777  Training Accuracy:  0.632  Validation Accuracy:  0.464\n",
            "Epoch 45 / 87 : Training Loss:  0.9793508844701614  Validation Loss:  1.3370080589127527  Training Accuracy:  0.649  Validation Accuracy:  0.464\n",
            "Epoch 46 / 87 : Training Loss:  0.969217163503083  Validation Loss:  1.3370312755627154  Training Accuracy:  0.664  Validation Accuracy:  0.474\n",
            "Epoch 47 / 87 : Training Loss:  0.9601532786445159  Validation Loss:  1.3386716243951888  Training Accuracy:  0.656  Validation Accuracy:  0.474\n",
            "Epoch 48 / 87 : Training Loss:  0.951872063135666  Validation Loss:  1.3368236172233299  Training Accuracy:  0.686  Validation Accuracy:  0.472\n",
            "Epoch 49 / 87 : Training Loss:  0.9423448908255219  Validation Loss:  1.341021368836407  Training Accuracy:  0.689  Validation Accuracy:  0.464\n",
            "Epoch 50 / 87 : Training Loss:  0.9345310983426821  Validation Loss:  1.3308386954137263  Training Accuracy:  0.696  Validation Accuracy:  0.472\n",
            "Epoch 51 / 87 : Training Loss:  0.9244099278808803  Validation Loss:  1.3381320757331743  Training Accuracy:  0.709  Validation Accuracy:  0.474\n",
            "Epoch 52 / 87 : Training Loss:  0.914877551671168  Validation Loss:  1.3419850466969168  Training Accuracy:  0.73  Validation Accuracy:  0.464\n",
            "Epoch 53 / 87 : Training Loss:  0.9058576588139019  Validation Loss:  1.3459882886784271  Training Accuracy:  0.696  Validation Accuracy:  0.474\n",
            "Epoch 54 / 87 : Training Loss:  0.8972321308603413  Validation Loss:  1.346967320576809  Training Accuracy:  0.686  Validation Accuracy:  0.47\n",
            "Epoch 55 / 87 : Training Loss:  0.8878811317195624  Validation Loss:  1.3469433633477514  Training Accuracy:  0.725  Validation Accuracy:  0.474\n",
            "Epoch 56 / 87 : Training Loss:  0.8800618763387003  Validation Loss:  1.3484591681150933  Training Accuracy:  0.716  Validation Accuracy:  0.464\n",
            "Epoch 57 / 87 : Training Loss:  0.8703151550899911  Validation Loss:  1.3446348814696143  Training Accuracy:  0.704  Validation Accuracy:  0.468\n",
            "Epoch 58 / 87 : Training Loss:  0.8606487050780781  Validation Loss:  1.3569328966525747  Training Accuracy:  0.736  Validation Accuracy:  0.456\n",
            "Epoch 59 / 87 : Training Loss:  0.8515282927824555  Validation Loss:  1.3553628061288099  Training Accuracy:  0.713  Validation Accuracy:  0.454\n",
            "Epoch 60 / 87 : Training Loss:  0.8415298265357058  Validation Loss:  1.3545818988964269  Training Accuracy:  0.773  Validation Accuracy:  0.462\n",
            "Epoch 61 / 87 : Training Loss:  0.8325392349044771  Validation Loss:  1.3598413154946576  Training Accuracy:  0.731  Validation Accuracy:  0.464\n",
            "Epoch 62 / 87 : Training Loss:  0.8242028374171314  Validation Loss:  1.3498495997649778  Training Accuracy:  0.756  Validation Accuracy:  0.468\n",
            "Epoch 63 / 87 : Training Loss:  0.8161077847225426  Validation Loss:  1.3696525392652041  Training Accuracy:  0.737  Validation Accuracy:  0.464\n",
            "Epoch 64 / 87 : Training Loss:  0.8049171427994795  Validation Loss:  1.3671978944600014  Training Accuracy:  0.74  Validation Accuracy:  0.46\n",
            "Epoch 65 / 87 : Training Loss:  0.7959879015645103  Validation Loss:  1.366107999549939  Training Accuracy:  0.745  Validation Accuracy:  0.462\n",
            "Epoch 66 / 87 : Training Loss:  0.78638115688727  Validation Loss:  1.3688366428276961  Training Accuracy:  0.747  Validation Accuracy:  0.464\n",
            "Epoch 67 / 87 : Training Loss:  0.778248015739448  Validation Loss:  1.3742899987831045  Training Accuracy:  0.743  Validation Accuracy:  0.466\n",
            "Epoch 68 / 87 : Training Loss:  0.7696716682940441  Validation Loss:  1.3687139622283842  Training Accuracy:  0.788  Validation Accuracy:  0.474\n",
            "Epoch 69 / 87 : Training Loss:  0.7603953148722731  Validation Loss:  1.3780837438867866  Training Accuracy:  0.747  Validation Accuracy:  0.452\n",
            "Epoch 70 / 87 : Training Loss:  0.7509930241290913  Validation Loss:  1.3731971348354348  Training Accuracy:  0.781  Validation Accuracy:  0.47\n",
            "Epoch 71 / 87 : Training Loss:  0.741915990727625  Validation Loss:  1.3881647233908974  Training Accuracy:  0.797  Validation Accuracy:  0.474\n",
            "Epoch 72 / 87 : Training Loss:  0.7330386489574351  Validation Loss:  1.3884887020831669  Training Accuracy:  0.779  Validation Accuracy:  0.474\n",
            "Epoch 73 / 87 : Training Loss:  0.7240612872397141  Validation Loss:  1.3939061084409956  Training Accuracy:  0.782  Validation Accuracy:  0.466\n",
            "Epoch 74 / 87 : Training Loss:  0.7150323883503852  Validation Loss:  1.3943793656699952  Training Accuracy:  0.812  Validation Accuracy:  0.464\n",
            "Epoch 75 / 87 : Training Loss:  0.7071409880798412  Validation Loss:  1.392469875219208  Training Accuracy:  0.779  Validation Accuracy:  0.472\n",
            "Epoch 76 / 87 : Training Loss:  0.6974526711371587  Validation Loss:  1.3964843362676596  Training Accuracy:  0.799  Validation Accuracy:  0.484\n",
            "Epoch 77 / 87 : Training Loss:  0.6891952068094579  Validation Loss:  1.3955842096915974  Training Accuracy:  0.813  Validation Accuracy:  0.468\n",
            "Epoch 78 / 87 : Training Loss:  0.6799041059873107  Validation Loss:  1.3997337488653538  Training Accuracy:  0.796  Validation Accuracy:  0.468\n",
            "Epoch 79 / 87 : Training Loss:  0.6716162948826817  Validation Loss:  1.406752425226344  Training Accuracy:  0.808  Validation Accuracy:  0.472\n",
            "Epoch 80 / 87 : Training Loss:  0.6623682066770306  Validation Loss:  1.4120241009815135  Training Accuracy:  0.841  Validation Accuracy:  0.47\n",
            "Epoch 81 / 87 : Training Loss:  0.6534509706327836  Validation Loss:  1.4183116134267033  Training Accuracy:  0.822  Validation Accuracy:  0.472\n",
            "Epoch 82 / 87 : Training Loss:  0.6459823005960954  Validation Loss:  1.416545901972061  Training Accuracy:  0.809  Validation Accuracy:  0.484\n",
            "Epoch 83 / 87 : Training Loss:  0.6373848525139176  Validation Loss:  1.428856789600616  Training Accuracy:  0.846  Validation Accuracy:  0.472\n",
            "Epoch 84 / 87 : Training Loss:  0.6277814024024064  Validation Loss:  1.4232041789853886  Training Accuracy:  0.842  Validation Accuracy:  0.472\n",
            "Epoch 85 / 87 : Training Loss:  0.6195052930648844  Validation Loss:  1.4256233656889483  Training Accuracy:  0.843  Validation Accuracy:  0.476\n",
            "Epoch 86 / 87 : Training Loss:  0.6105428780192151  Validation Loss:  1.433868144196503  Training Accuracy:  0.841  Validation Accuracy:  0.472\n",
            "Epoch 87 / 87 : Training Loss:  0.601821441867677  Validation Loss:  1.437946671378152  Training Accuracy:  0.839  Validation Accuracy:  0.46\n"
          ]
        }
      ]
    },
    {
      "cell_type": "code",
      "metadata": {
        "colab": {
          "base_uri": "https://localhost:8080/"
        },
        "id": "12XeaHzdVvKD",
        "outputId": "ad262d63-4b92-4939-eef3-38e164b9dd3e"
      },
      "source": [
        "print(\"weight scale: \",weight_scale,\" learning rate: \",learning_rate,\" reg: \",reg)\n",
        "print('Validation set accuracy: ', ( np.argmax(model.loss(TrainData), axis=1) ==TrainLabels).mean())\n",
        "print('\\n')\n",
        "for i,name in enumerate(Folders):\n",
        "  print('CCR',name[1].upper(),': ', (np.argmax(model.loss(TestData[numberOfTestPerClass*i:numberOfTestPerClass*i+numberOfTestPerClass]), axis=1) == TestLabels[numberOfTestPerClass*i:numberOfTestPerClass*i+numberOfTestPerClass]).mean())\n",
        "print('ACCR: ', (np.argmax(model.loss(TestData), axis=1) == TestLabels).mean())\n",
        "\n"
      ],
      "execution_count": null,
      "outputs": [
        {
          "output_type": "stream",
          "name": "stdout",
          "text": [
            "weight scale:  0.02  learning rate:  8.297770501072957e-06  reg:  0.0008675270144593566\n",
            "Validation set accuracy:  0.802247191011236\n",
            "\n",
            "\n",
            "CCR DAISY :  0.4\n",
            "CCR DANDELION :  0.67\n",
            "CCR SUNFLOWERS :  0.62\n",
            "CCR TULIPS :  0.53\n",
            "CCR ROSES :  0.39\n",
            "ACCR:  0.522\n"
          ]
        }
      ]
    },
    {
      "cell_type": "code",
      "metadata": {
        "colab": {
          "base_uri": "https://localhost:8080/",
          "height": 295
        },
        "id": "eFPzuoFL_et9",
        "outputId": "d5a59663-6174-4fd0-8e95-e684f947bbd9"
      },
      "source": [
        "plt.plot( range(epochs),model.train_loss_history[0:epochs], 'ro-',  range(epochs),model.val_loss_history[0:epochs], 'bo-')\n",
        "plt.grid()\n",
        "plt.title(\"Loss Graph\")\n",
        "plt.ylabel('Red: Training Loss, Blue: Validation Loss')\n",
        "plt.xlabel('Epochs')\n",
        "plt.show()"
      ],
      "execution_count": null,
      "outputs": [
        {
          "output_type": "display_data",
          "data": {
            "text/plain": [
              "<Figure size 432x288 with 1 Axes>"
            ],
            "image/png": "[encoded data removed]"
          },
          "metadata": {
            "needs_background": "light"
          }
        }
      ]
    },
    {
      "cell_type": "code",
      "metadata": {
        "colab": {
          "base_uri": "https://localhost:8080/",
          "height": 295
        },
        "id": "Vqyid-O2_w3d",
        "outputId": "7aef4ade-9d4e-46d5-b98d-f8a4bf340c51"
      },
      "source": [
        "plt.plot( range(epochs),model.train_acc_history[0:epochs], 'ro-',  range(epochs),model.val_acc_history[0:epochs], 'bo-')\n",
        "plt.grid()\n",
        "plt.title(\"Accuracy Graph\")\n",
        "plt.ylabel('Red: Training Accuracy, Blue: Validation Accuracy')\n",
        "plt.xlabel('Epochs')\n",
        "plt.show()"
      ],
      "execution_count": null,
      "outputs": [
        {
          "output_type": "display_data",
          "data": {
            "text/plain": [
              "<Figure size 432x288 with 1 Axes>"
            ],
            "image/png": "[encoded data removed]"
          },
          "metadata": {
            "needs_background": "light"
          }
        }
      ]
    }
  ]
}