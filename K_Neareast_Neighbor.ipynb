{
  "nbformat": 4,
  "nbformat_minor": 0,
  "metadata": {
    "colab": {
      "name": "HW1-1_900170269.ipynb",
      "provenance": [],
      "collapsed_sections": []
    },
    "kernelspec": {
      "display_name": "Python 3",
      "name": "python3"
    }
  },
  "cells": [
    {
      "cell_type": "code",
      "metadata": {
        "colab": {
          "base_uri": "https://localhost:8080/"
        },
        "id": "mj-dXMumKaRs",
        "outputId": "458f99af-1455-4608-b533-912ecc553b6e"
      },
      "source": [
        "# Google Drive Mounting\n",
        "#from google.colab import drive\n",
        "import tensorflow as tf\n",
        "import os\n",
        "#drive.mount(\"/content/drive\")\n",
        "#datadir = 'drive/My Drive/Practical Deep Machine Learning/HW1/flower_photos'\n",
        "numberOfTestPerClass = 100 \n",
        "OptionsFork = [1, 3, 5, 8, 10, 12, 15, 20, 50, 100]\n",
        "ValidationCounter = 5\n",
        "#!ls 'drive/My Drive/Practical Deep Machine Learning/HW1/flower_photos'\n",
        "\n",
        "_URL = \"http://download.tensorflow.org/example_images/flower_photos.tgz\"\n",
        "\n",
        "zip_file = tf.keras.utils.get_file(origin=_URL,\n",
        "                                   fname=\"flower_photos.tgz\",\n",
        "                                   extract=True)\n",
        "\n",
        "datadir = os.path.join(os.path.dirname(zip_file), 'flower_photos')\n",
        "print(datadir)"
      ],
      "execution_count": null,
      "outputs": [
        {
          "output_type": "stream",
          "name": "stdout",
          "text": [
            "Drive already mounted at /content/drive; to attempt to forcibly remount, call drive.mount(\"/content/drive\", force_remount=True).\n",
            "daisy  dandelion  LICENSE.txt  roses  sunflowers  tulips\n"
          ]
        }
      ]
    },
    {
      "cell_type": "code",
      "metadata": {
        "id": "hkN2U4WSoE4U"
      },
      "source": [
        "def NavigateDirectory(Directory,numberOfTestPerClass):\n",
        "  Folders = []\n",
        "  ImageNamesTrain = []\n",
        "  ImageNamesTest = []\n",
        "\n",
        "  for file in os.listdir(Directory):    # Get Folders\n",
        "    if(os.path.isdir(Directory+'/'+file)):\n",
        "      Folders.append(file)\n",
        "\n",
        "  for folder in Folders:                # Get Images\n",
        "    temp=[]\n",
        "    sortedtemp=[]\n",
        "    for filename in os.listdir(Directory+'/'+folder):\n",
        "      if filename.endswith(\"jpg\"): temp.append(filename)\n",
        "    \n",
        "    sortedtemp = sorted(temp);\n",
        "    ImageNamesTrain.append(sortedtemp[:-numberOfTestPerClass])\n",
        "    ImageNamesTest.append(sortedtemp[-numberOfTestPerClass:])\n",
        "\n",
        "\n",
        "\n",
        "  return Folders,ImageNamesTrain,ImageNamesTest"
      ],
      "execution_count": null,
      "outputs": []
    },
    {
      "cell_type": "code",
      "metadata": {
        "id": "NN8ZAweioYaX",
        "colab": {
          "base_uri": "https://localhost:8080/"
        },
        "outputId": "be9d27e0-21e1-4de3-9429-81d08401d61c"
      },
      "source": [
        "# Get Class names from Folders & image files (jpg)\n",
        "Folders, ImageNamesTrain, ImageNamesTest = NavigateDirectory(datadir,numberOfTestPerClass)\n",
        "Folders = list(enumerate(Folders))\n",
        "print(Folders)"
      ],
      "execution_count": null,
      "outputs": [
        {
          "output_type": "stream",
          "name": "stdout",
          "text": [
            "[(0, 'roses'), (1, 'sunflowers'), (2, 'tulips'), (3, 'daisy'), (4, 'dandelion')]\n"
          ]
        }
      ]
    },
    {
      "cell_type": "code",
      "metadata": {
        "id": "RlGyjiXf3LUH"
      },
      "source": [
        "import cv2\n",
        "from google.colab.patches import cv2_imshow\n",
        "import numpy as np\n",
        "\n",
        "def Load(Directory,Folders, ImageNamesTrain,type):\n",
        "  Images = []\n",
        "  ImagesLabels = []\n",
        "  \n",
        "  for folder,listOfImages in zip(Folders,ImageNamesTrain):\n",
        "    for name in listOfImages:\n",
        "      image = cv2.imread(Directory+'/'+folder[1]+'/'+name)\n",
        "      image = cv2.resize(image, (32,32)) # Resizing to 32x32\n",
        "      \n",
        "      if type==\"Color\":\n",
        "        Images.append(image)     \n",
        "        ImagesLabels.append(folder[0]) # Number not name\n",
        "\n",
        "      if type==\"Gray\":\n",
        "        gray_image = cv2.cvtColor(image, cv2.COLOR_BGR2GRAY)\n",
        "        Images.append(gray_image)\n",
        "        ImagesLabels.append(folder[0]) # Number not name\n",
        "\n",
        "  X = np.array(Images)\n",
        "  Y = np.array(ImagesLabels)\n",
        "\n",
        "  return X,Y"
      ],
      "execution_count": null,
      "outputs": []
    },
    {
      "cell_type": "code",
      "metadata": {
        "colab": {
          "base_uri": "https://localhost:8080/"
        },
        "id": "Lg6TZa98EHEf",
        "outputId": "0e01499b-cb9c-4c65-d5ee-122be6b6f244"
      },
      "source": [
        "# Color Images Loading\n",
        "try:\n",
        "   del TrainDataColor, TrainLabelsColor\n",
        "   del TestDataColor, TestLabelsColor\n",
        "   print('Clear previously loaded data.')\n",
        "except:\n",
        "   pass\n",
        "\n",
        "TrainDataColor,TrainLabelsColor = Load(datadir,Folders,ImageNamesTrain,\"Color\")\n",
        "TestDataColor,TestLabelsColor = Load(datadir,Folders,ImageNamesTest,\"Color\")\n",
        "\n",
        "print(\"Color Training data shape: \",TrainDataColor.shape)\n",
        "print(\"Color Training labels shape: \",TrainLabelsColor.shape)\n",
        "print(\"Color Test data shape: \",TestDataColor.shape)\n",
        "print(\"Color Test labels shape: \",TestLabelsColor.shape)"
      ],
      "execution_count": null,
      "outputs": [
        {
          "output_type": "stream",
          "name": "stdout",
          "text": [
            "Clear previously loaded data.\n",
            "Color Training data shape:  (3177, 32, 32, 3)\n",
            "Color Training labels shape:  (3177,)\n",
            "Color Test data shape:  (500, 32, 32, 3)\n",
            "Color Test labels shape:  (500,)\n"
          ]
        }
      ]
    },
    {
      "cell_type": "code",
      "metadata": {
        "colab": {
          "base_uri": "https://localhost:8080/"
        },
        "id": "eNP5ki2tEJtW",
        "outputId": "d451d92f-f783-4cef-b5f8-2ddf123c4ba3"
      },
      "source": [
        "# Gray Images Loading\n",
        "try:\n",
        "   del TrainDataGray, TrainLabelsGray\n",
        "   del TestDataGray, TestLabelsGray\n",
        "   print('Clear previously loaded data.')\n",
        "except:\n",
        "   pass\n",
        "\n",
        "TrainDataGray,TrainLabelsGray = Load(datadir,Folders,ImageNamesTrain,\"Gray\")\n",
        "TestDataGray,TestLabelsGray = Load(datadir,Folders,ImageNamesTest,\"Gray\")\n",
        "\n",
        "print(\"Gray Training data shape: \",TrainDataGray.shape)\n",
        "print(\"Gray Training labels shape: \",TrainLabelsGray.shape)\n",
        "print(\"Gray Test data shape: \",TestLabelsGray.shape)\n",
        "print(\"Gray Test labels shape: \",TestLabelsGray.shape)"
      ],
      "execution_count": null,
      "outputs": [
        {
          "output_type": "stream",
          "name": "stdout",
          "text": [
            "Clear previously loaded data.\n",
            "Gray Training data shape:  (3177, 32, 32)\n",
            "Gray Training labels shape:  (3177,)\n",
            "Gray Test data shape:  (500,)\n",
            "Gray Test labels shape:  (500,)\n"
          ]
        }
      ]
    },
    {
      "cell_type": "code",
      "metadata": {
        "colab": {
          "base_uri": "https://localhost:8080/"
        },
        "id": "DV6nwAc_Rkdf",
        "outputId": "700a0a7f-a1a0-42cb-9276-a6a521aedf79"
      },
      "source": [
        "# Verifying shape of data\n",
        "TrainDataColor = np.reshape(TrainDataColor, (TrainDataColor.shape[0], -1))\n",
        "TestDataColor = np.reshape(TestDataColor, (TestDataColor.shape[0], -1))\n",
        "print (\"Color Train Data New Shape: \",TrainDataColor.shape)\n",
        "print (\"Color Test Data New Shape: \",TestDataColor.shape)\n",
        "\n",
        "TrainDataGray = np.reshape(TrainDataGray, (TrainDataGray.shape[0], -1))\n",
        "TestDataGray = np.reshape(TestDataGray, (TestDataGray.shape[0], -1))\n",
        "print (\"Gray Train Data New Shape: \",TrainDataGray.shape)\n",
        "print (\"Gray Test Data New Shape: \",TestDataGray.shape)"
      ],
      "execution_count": null,
      "outputs": [
        {
          "output_type": "stream",
          "name": "stdout",
          "text": [
            "Color Train Data New Shape:  (3177, 3072)\n",
            "Color Test Data New Shape:  (500, 3072)\n",
            "Gray Train Data New Shape:  (3177, 1024)\n",
            "Gray Test Data New Shape:  (500, 1024)\n"
          ]
        }
      ]
    },
    {
      "cell_type": "code",
      "metadata": {
        "id": "TE2iLVhpJbS2"
      },
      "source": [
        "from builtins import range\n",
        "from builtins import object\n",
        "import numpy as np\n",
        "from past.builtins import xrange\n",
        "\n",
        "\n",
        "class KNearestNeighbor(object):\n",
        "    def __init__(self):\n",
        "        pass\n",
        "\n",
        "    def train(self, X, y):\n",
        "        self.X_train = X\n",
        "        self.y_train = y\n",
        "\n",
        "    def predict(self, X, k=1):\n",
        "        num_test = X.shape[0]\n",
        "        num_train = self.X_train.shape[0]\n",
        "        dists = np.zeros((num_test, num_train))\n",
        "        for i in range(num_test):\n",
        "            D = X[i]-self.X_train\n",
        "            dists[i,:] = np.sqrt(np.sum(D**2, axis=1))\n",
        "            \n",
        "        return self.predict_labels(dists, k=k)\n",
        "\n",
        "    def predict_labels(self, dists, k=1):\n",
        "        num_test = dists.shape[0]\n",
        "        y_pred = np.zeros(num_test)\n",
        "        for i in range(num_test):\n",
        "            closest_y = []\n",
        "            k_closest = np.argsort(dists[i,:])[:k]\n",
        "            closest_y = self.y_train[k_closest]\n",
        "            (values,counts) = np.unique(closest_y,return_counts=True)\n",
        "            ind=np.argmax(counts)\n",
        "            y_pred[i] = values[ind]\n",
        "        return y_pred"
      ],
      "execution_count": null,
      "outputs": []
    },
    {
      "cell_type": "code",
      "metadata": {
        "id": "SikPJaTVtmHJ"
      },
      "source": [
        "# COlORED IMAGES CROSS VALIDATION ON KNN\n",
        "def CrossFoldValidation(num_folds,OptionsForK,TrainData,TrainLabels):\n",
        "  Train_folds = np.array_split(TrainData, num_folds)\n",
        "  Labels_folds = np.array_split(TrainLabels, num_folds)\n",
        "\n",
        "  kAccuracyDictionary = {}\n",
        "  classifierColor = KNearestNeighbor()\n",
        "\n",
        "\n",
        "  for k in OptionsForK:\n",
        "      kAccuracyDictionary[k] = []   # Initialize empty list for key k\n",
        "      for i in range(num_folds):\n",
        "          Train_Fold = []\n",
        "          Label_Fold = []\n",
        "          for j, (x_fold , y_fold) in enumerate(zip(Train_folds, Labels_folds)):\n",
        "              if i != j:  # Add all data except i to later use for validation\n",
        "                  Train_Fold.extend(x_fold)\n",
        "                  Label_Fold.extend(y_fold)\n",
        "\n",
        "          Train_Fold = np.array(Train_Fold)   # Change to np\n",
        "          Label_Fold = np.array(Label_Fold)   # Change to np\n",
        "                  \n",
        "          # use of k-nearest-neighbor algorithm on i to validate\n",
        "          classifierColor.train(Train_Fold, Label_Fold)\n",
        "          Predicted = classifierColor.predict(Train_folds[i],k=k)\n",
        "\n",
        "          # Compute the fraction of correctly predicted examples\n",
        "          num_correct = np.sum(Predicted == Labels_folds[i])\n",
        "          accuracy = float(num_correct) / Train_folds[i].shape[0]\n",
        "          kAccuracyDictionary[k].append(accuracy)\n",
        "  return kAccuracyDictionary"
      ],
      "execution_count": null,
      "outputs": []
    },
    {
      "cell_type": "code",
      "metadata": {
        "id": "-DYw9Us80vJZ"
      },
      "source": [
        "kAccuracyDictionary_Color = CrossFoldValidation(ValidationCounter,OptionsFork,TrainDataColor,TrainLabelsColor)"
      ],
      "execution_count": null,
      "outputs": []
    },
    {
      "cell_type": "code",
      "metadata": {
        "colab": {
          "base_uri": "https://localhost:8080/",
          "height": 482
        },
        "id": "rX2nzFiIwtVh",
        "outputId": "d0d33516-8e1c-43f6-c37a-08ff976b7aa4"
      },
      "source": [
        "\n",
        "import matplotlib.pyplot as plt\n",
        "\n",
        "# plot the raw observations\n",
        "for k in OptionsFork:\n",
        "    accuracies = kAccuracyDictionary_Color[k]\n",
        "    plt.scatter([k] * len(accuracies), accuracies)\n",
        "\n",
        "# plot the trend line with error bars that correspond to standard deviation\n",
        "accuracies_mean = np.array([np.mean(v) for k,v in sorted(kAccuracyDictionary_Color.items())])\n",
        "accuracies_std = np.array([np.std(v) for k,v in sorted(kAccuracyDictionary_Color.items())])\n",
        "plt.errorbar(OptionsFork, accuracies_mean, yerr=accuracies_std)\n",
        "plt.title('Colored Images Cross-validation on k')\n",
        "plt.xlabel('k')\n",
        "plt.ylabel('Cross-validation accuracy')\n",
        "plt.show()\n",
        "\n",
        "max = accuracies_mean.max()\n",
        "bestK = OptionsFork[accuracies_mean.tolist().index(max)]\n",
        "for item in zip(OptionsFork, accuracies_mean, accuracies_std):\n",
        "    print('k = {:3d}, score = {:.3f}, std = {:.3f}'.format(item[0], item[1], item[2]))\n",
        "\n",
        "print(\"Best K found is: \",bestK)"
      ],
      "execution_count": null,
      "outputs": [
        {
          "output_type": "display_data",
          "data": {
            "image/png": "[encoded data removed]",
            "text/plain": [
              "<Figure size 432x288 with 1 Axes>"
            ]
          },
          "metadata": {
            "needs_background": "light"
          }
        },
        {
          "output_type": "stream",
          "name": "stdout",
          "text": [
            "k =   1, score = 0.093, std = 0.051\n",
            "k =   3, score = 0.069, std = 0.030\n",
            "k =   5, score = 0.059, std = 0.033\n",
            "k =   8, score = 0.056, std = 0.042\n",
            "k =  10, score = 0.049, std = 0.044\n",
            "k =  12, score = 0.051, std = 0.043\n",
            "k =  15, score = 0.049, std = 0.046\n",
            "k =  20, score = 0.046, std = 0.052\n",
            "k =  50, score = 0.039, std = 0.055\n",
            "k = 100, score = 0.033, std = 0.050\n",
            "Best K found is:  1\n"
          ]
        }
      ]
    },
    {
      "cell_type": "code",
      "metadata": {
        "colab": {
          "base_uri": "https://localhost:8080/"
        },
        "id": "tcsttoAoPjLH",
        "outputId": "8d3b04ca-bbda-4c6f-c69a-183de86c110e"
      },
      "source": [
        "# TESTING PHASE\n",
        "classifierColor = KNearestNeighbor()\n",
        "classifierColor.train(TrainDataColor, TrainLabelsColor)\n",
        "ColorPrediciton = classifierColor.predict(TestDataColor,k=bestK)\n",
        "num_correct_color = np.sum(ColorPrediciton == TestLabelsColor)\n",
        "accuracy_color = float(num_correct_color) / (numberOfTestPerClass*len(Folders))\n",
        "print ('Color: Got %d / %d correct => accuracy: %f' % (num_correct_color, (numberOfTestPerClass*len(Folders)), accuracy_color))"
      ],
      "execution_count": null,
      "outputs": [
        {
          "output_type": "stream",
          "name": "stdout",
          "text": [
            "Color: Got 131 / 500 correct => accuracy: 0.262000\n"
          ]
        }
      ]
    },
    {
      "cell_type": "code",
      "metadata": {
        "colab": {
          "base_uri": "https://localhost:8080/"
        },
        "id": "dmYcKkmmNRO1",
        "outputId": "3e1ae378-13a5-468b-97eb-f684303e8d88"
      },
      "source": [
        "print(\"For Color Images:\")\n",
        "print(\"CCR 0 (Roses): \",np.sum(ColorPrediciton[0:100] == TestLabelsColor[0:100])/100)\n",
        "print(\"CCR 1 (Sunflowers): \",np.sum(ColorPrediciton[100:200] == TestLabelsColor[100:200])/100)\n",
        "print(\"CCR 2 (Tulips):\",np.sum(ColorPrediciton[200:300] == TestLabelsColor[200:300])/100)\n",
        "print(\"CCR 3 (Daisy): \",np.sum(ColorPrediciton[300:400] == TestLabelsColor[300:400])/100)\n",
        "print(\"CCR 4 (Dandelion): \",np.sum(ColorPrediciton[400:500] == TestLabelsColor[400:500])/100)\n",
        "print(\"ACCR: \",np.sum(ColorPrediciton== TestLabelsColor)/500)"
      ],
      "execution_count": null,
      "outputs": [
        {
          "output_type": "stream",
          "name": "stdout",
          "text": [
            "For Color Images:\n",
            "CCR 0 (Roses):  0.2\n",
            "CCR 1 (Sunflowers):  0.28\n",
            "CCR 2 (Tulips): 0.16\n",
            "CCR 3 (Daisy):  0.19\n",
            "CCR 4 (Dandelion):  0.48\n",
            "ACCR:  0.262\n"
          ]
        }
      ]
    },
    {
      "cell_type": "code",
      "metadata": {
        "id": "kTtCT5CwKx2E"
      },
      "source": [
        "kAccuracyDictionary_Gray = CrossFoldValidation(ValidationCounter,OptionsFork,TrainDataGray,TrainLabelsGray)"
      ],
      "execution_count": null,
      "outputs": []
    },
    {
      "cell_type": "code",
      "metadata": {
        "colab": {
          "base_uri": "https://localhost:8080/",
          "height": 482
        },
        "id": "e6vU9smExbqN",
        "outputId": "bd062388-8d26-4631-d3cb-36615b10f90e"
      },
      "source": [
        "import matplotlib.pyplot as plt\n",
        "\n",
        "# plot the raw observations\n",
        "for k in OptionsFork:\n",
        "    accuracies = kAccuracyDictionary_Gray[k]\n",
        "    plt.scatter([k] * len(accuracies), accuracies)\n",
        "\n",
        "# plot the trend line with error bars that correspond to standard deviation\n",
        "accuracies_mean = np.array([np.mean(v) for k,v in sorted(kAccuracyDictionary_Gray.items())])\n",
        "accuracies_std = np.array([np.std(v) for k,v in sorted(kAccuracyDictionary_Gray.items())])\n",
        "plt.errorbar(OptionsFork, accuracies_mean, yerr=accuracies_std)\n",
        "plt.title('Gray Images Cross-validation on k')\n",
        "plt.xlabel('k')\n",
        "plt.ylabel('Cross-validation accuracy')\n",
        "plt.show()\n",
        "\n",
        "max = accuracies_mean.max()\n",
        "bestK_Gray = OptionsFork[accuracies_mean.tolist().index(max)]\n",
        "for item in zip(OptionsFork, accuracies_mean, accuracies_std):\n",
        "    print('k = {:3d}, score = {:.3f}, std = {:.3f}'.format(item[0], item[1], item[2]))\n",
        "\n",
        "print(\"Best K found is: \",bestK)"
      ],
      "execution_count": null,
      "outputs": [
        {
          "output_type": "display_data",
          "data": {
            "image/png": "[encoded data removed]",
            "text/plain": [
              "<Figure size 432x288 with 1 Axes>"
            ]
          },
          "metadata": {
            "needs_background": "light"
          }
        },
        {
          "output_type": "stream",
          "name": "stdout",
          "text": [
            "k =   1, score = 0.077, std = 0.038\n",
            "k =   3, score = 0.055, std = 0.027\n",
            "k =   5, score = 0.046, std = 0.031\n",
            "k =   8, score = 0.042, std = 0.043\n",
            "k =  10, score = 0.046, std = 0.051\n",
            "k =  12, score = 0.041, std = 0.051\n",
            "k =  15, score = 0.039, std = 0.055\n",
            "k =  20, score = 0.037, std = 0.057\n",
            "k =  50, score = 0.033, std = 0.061\n",
            "k = 100, score = 0.029, std = 0.057\n",
            "Best K found is:  1\n"
          ]
        }
      ]
    },
    {
      "cell_type": "code",
      "metadata": {
        "colab": {
          "base_uri": "https://localhost:8080/"
        },
        "id": "vwtv409dQG09",
        "outputId": "18d54aa8-ec5a-4115-b927-9a2fdc86543c"
      },
      "source": [
        "# -- Without Cross Fold For One K Only\n",
        "\n",
        "classifierGray = KNearestNeighbor()\n",
        "classifierGray.train(TrainDataGray, TrainLabelsGray)\n",
        "GrayPrediction = classifierGray.predict(TestDataGray,k=bestK_Gray)\n",
        "num_correct_gray = np.sum(GrayPrediction == TestLabelsGray)\n",
        "accuracy_gray = float(num_correct_gray) / (numberOfTestPerClass*len(Folders))\n",
        "print ('Gray: Got %d / %d correct => accuracy: %f' % (num_correct_gray, (numberOfTestPerClass*len(Folders)), accuracy_gray))"
      ],
      "execution_count": null,
      "outputs": [
        {
          "output_type": "stream",
          "name": "stdout",
          "text": [
            "Gray: Got 125 / 500 correct => accuracy: 0.250000\n"
          ]
        }
      ]
    },
    {
      "cell_type": "code",
      "metadata": {
        "id": "wk-6zXFQ98yk",
        "colab": {
          "base_uri": "https://localhost:8080/"
        },
        "outputId": "63952e29-630e-4310-c638-0a8b9291dc0c"
      },
      "source": [
        "print(\"For Gray Images:\")\n",
        "print(\"CCR 0 (Roses): \",np.sum(GrayPrediction[0:100] == TestLabelsGray[0:100])/100)\n",
        "print(\"CCR 1 (Sunflowers): \",np.sum(GrayPrediction[100:200] == TestLabelsGray[100:200])/100)\n",
        "print(\"CCR 2 (Tulips):\",np.sum(GrayPrediction[200:300] == TestLabelsGray[200:300])/100)\n",
        "print(\"CCR 3 (Daisy): \",np.sum(GrayPrediction[300:400] == TestLabelsGray[300:400])/100)\n",
        "print(\"CCR 4 (Dandelion): \",np.sum(GrayPrediction[400:500] == TestLabelsGray[400:500])/100)\n",
        "print(\"ACCR: \",np.sum(GrayPrediction== TestLabelsGray)/500)"
      ],
      "execution_count": null,
      "outputs": [
        {
          "output_type": "stream",
          "name": "stdout",
          "text": [
            "For Gray Images:\n",
            "CCR 0 (Roses):  0.26\n",
            "CCR 1 (Sunflowers):  0.24\n",
            "CCR 2 (Tulips): 0.18\n",
            "CCR 3 (Daisy):  0.2\n",
            "CCR 4 (Dandelion):  0.37\n",
            "ACCR:  0.25\n"
          ]
        }
      ]
    },
    {
      "cell_type": "code",
      "metadata": {
        "colab": {
          "base_uri": "https://localhost:8080/"
        },
        "id": "hLn8Rd2QQCvw",
        "outputId": "2aa20fd2-6ca9-4f89-8bb2-89e2b12699d7"
      },
      "source": [
        "if( (np.sum(GrayPrediction== TestLabelsGray)/500) > (np.sum(ColorPrediciton== TestLabelsColor)/500)):\n",
        "  print(\"Gray images have better average accuracy than color images for KNN\")\n",
        "else:\n",
        "  print(\"Color images have better average accuracy than gray images for KNN\")"
      ],
      "execution_count": null,
      "outputs": [
        {
          "output_type": "stream",
          "name": "stdout",
          "text": [
            "Color images have better average accuracy than gray images for KNN\n"
          ]
        }
      ]
    }
  ]
}