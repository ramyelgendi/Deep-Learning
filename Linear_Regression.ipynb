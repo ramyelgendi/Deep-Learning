{
  "nbformat": 4,
  "nbformat_minor": 0,
  "metadata": {
    "colab": {
      "name": "HW1-2_900170269.ipynb",
      "provenance": [],
      "collapsed_sections": []
    },
    "kernelspec": {
      "display_name": "Python 3",
      "name": "python3"
    }
  },
  "cells": [
    {
      "cell_type": "code",
      "metadata": {
        "colab": {
          "base_uri": "https://localhost:8080/"
        },
        "id": "mj-dXMumKaRs",
        "outputId": "0f475d2b-742c-4a41-a855-99a981905f5a"
      },
      "source": [
        "# Google Drive Mounting\n",
        "#from google.colab import drive\n",
        "import tensorflow as tf\n",
        "import os\n",
        "#drive.mount(\"/content/drive\")\n",
        "#datadir = 'drive/My Drive/Practical Deep Machine Learning/HW1/flower_photos'\n",
        "numberOfTestPerClass = 100\n",
        "OptionsResolution = [10,20,30,40,50,60]\n",
        "ValidationCounter = 5\n",
        "#!ls 'drive/My Drive/Practical Deep Machine Learning/HW1/flower_photos'\n",
        "\n",
        "_URL = \"http://download.tensorflow.org/example_images/flower_photos.tgz\"\n",
        "\n",
        "zip_file = tf.keras.utils.get_file(origin=_URL,\n",
        "                                   fname=\"flower_photos.tgz\",\n",
        "                                   extract=True)\n",
        "\n",
        "datadir = os.path.join(os.path.dirname(zip_file), 'flower_photos')\n",
        "print(datadir)"
      ],
      "execution_count": null,
      "outputs": [
        {
          "name": "stdout",
          "output_type": "stream",
          "text": [
            "Drive already mounted at /content/drive; to attempt to forcibly remount, call drive.mount(\"/content/drive\", force_remount=True).\n",
            "daisy  dandelion  LICENSE.txt  roses  sunflowers  tulips\n"
          ]
        }
      ]
    },
    {
      "cell_type": "code",
      "metadata": {
        "id": "hkN2U4WSoE4U"
      },
      "source": [
        "import os\n",
        "def NavigateDirectory(Directory,numberOfTestPerClass):\n",
        "  Folders = []\n",
        "  ImageNamesTrain = []\n",
        "  ImageNamesTest = []\n",
        "\n",
        "  for file in os.listdir(Directory):    # Get Folders\n",
        "    if(os.path.isdir(Directory+'/'+file)):\n",
        "      Folders.append(file)\n",
        "\n",
        "  for folder in Folders:                # Get Images\n",
        "    temp=[]\n",
        "    sortedtemp=[]\n",
        "    for filename in os.listdir(Directory+'/'+folder):\n",
        "      if filename.endswith(\"jpg\"): temp.append(filename)\n",
        "    \n",
        "    sortedtemp = sorted(temp);\n",
        "    ImageNamesTrain.append(sortedtemp[:-numberOfTestPerClass])\n",
        "    ImageNamesTest.append(sortedtemp[-numberOfTestPerClass:])\n",
        "\n",
        "\n",
        "\n",
        "  return Folders,ImageNamesTrain,ImageNamesTest"
      ],
      "execution_count": null,
      "outputs": []
    },
    {
      "cell_type": "code",
      "metadata": {
        "colab": {
          "base_uri": "https://localhost:8080/"
        },
        "id": "NN8ZAweioYaX",
        "outputId": "f4d05619-e41f-4e14-e25c-dc3fec3f6fe0"
      },
      "source": [
        "# Get Class names from Folders & image files (jpg)\n",
        "Folders, ImageNamesTrain, ImageNamesTest = NavigateDirectory(datadir,numberOfTestPerClass)\n",
        "Folders = list(enumerate(Folders))\n",
        "print(Folders)"
      ],
      "execution_count": null,
      "outputs": [
        {
          "name": "stdout",
          "output_type": "stream",
          "text": [
            "[(0, 'roses'), (1, 'sunflowers'), (2, 'tulips'), (3, 'daisy'), (4, 'dandelion')]\n"
          ]
        }
      ]
    },
    {
      "cell_type": "code",
      "metadata": {
        "id": "RlGyjiXf3LUH"
      },
      "source": [
        "import cv2\n",
        "from google.colab.patches import cv2_imshow\n",
        "import numpy as np\n",
        "\n",
        "def Load(Directory,Folders, ImageNamesTrain,type):\n",
        "  ResolutionImages = []\n",
        "  ResolutionLabels = []\n",
        "  \n",
        "  for res in OptionsResolution:\n",
        "    Images = []\n",
        "    ImagesLabels = []\n",
        "    for folder,listOfImages in zip(Folders,ImageNamesTrain):\n",
        "      for name in listOfImages:\n",
        "        image = cv2.imread(Directory+'/'+folder[1]+'/'+name)\n",
        "        image = cv2.resize(image, (res,res)) # Resizing to 32x32\n",
        "        image = cv2.normalize(image,  image, -1, 1, cv2.NORM_MINMAX)\n",
        "\n",
        "        if type==\"Color\":\n",
        "          Images.append(image)     \n",
        "          ImagesLabels.append(folder[0]) # Number not name\n",
        "\n",
        "        if type==\"Gray\":\n",
        "          gray_image = cv2.cvtColor(image, cv2.COLOR_BGR2GRAY)\n",
        "          Images.append(gray_image)\n",
        "          ImagesLabels.append(folder[0]) # Number not name\n",
        "\n",
        "    ResolutionImages.append(np.array(Images))\n",
        "    ResolutionLabels.append(np.array(ImagesLabels))\n",
        "\n",
        "  return ResolutionImages,ResolutionLabels"
      ],
      "execution_count": null,
      "outputs": []
    },
    {
      "cell_type": "code",
      "metadata": {
        "colab": {
          "base_uri": "https://localhost:8080/"
        },
        "id": "Lg6TZa98EHEf",
        "outputId": "f144e0c0-0e81-463a-c0f0-6a9ff77a3583"
      },
      "source": [
        "# Color Images Loading  ------------------------------------------------------------\n",
        "try:\n",
        "   del TrainDataColorList, TrainLabelsColorList\n",
        "   del TestDataColorList, TestLabelsColorList\n",
        "   print('Clear previously loaded data.')\n",
        "except:\n",
        "   pass\n",
        "\n",
        "TrainDataColorList,TrainLabelsColorList = Load(datadir,Folders,ImageNamesTrain,\"Color\")\n",
        "TestDataColorList,TestLabelsColorList = Load(datadir,Folders,ImageNamesTest,\"Color\")"
      ],
      "execution_count": null,
      "outputs": [
        {
          "name": "stdout",
          "output_type": "stream",
          "text": [
            "Clear previously loaded data.\n"
          ]
        }
      ]
    },
    {
      "cell_type": "code",
      "metadata": {
        "colab": {
          "base_uri": "https://localhost:8080/"
        },
        "id": "iLzMLK_793jJ",
        "outputId": "eddd71b7-f9c7-4a01-c1ad-fc59994ce203"
      },
      "source": [
        "for idx, val in enumerate(OptionsResolution):\n",
        "  print(\"For Resolution \",val,\"x\",val,\": \")\n",
        "  print(\"Color Training data shape: \",TrainDataColorList[idx].shape,\" and Test data shape: \",TrainLabelsColorList[idx].shape)\n",
        "  print(\"Color Training data shape: \",TestDataColorList[idx].shape,\" and Test data shape: \",TestLabelsColorList[idx].shape)"
      ],
      "execution_count": null,
      "outputs": [
        {
          "name": "stdout",
          "output_type": "stream",
          "text": [
            "For Resolution  10 x 10 : \n",
            "Color Training data shape:  (3177, 10, 10, 3)  and Test data shape:  (3177,)\n",
            "Color Training data shape:  (500, 10, 10, 3)  and Test data shape:  (500,)\n",
            "For Resolution  20 x 20 : \n",
            "Color Training data shape:  (3177, 20, 20, 3)  and Test data shape:  (3177,)\n",
            "Color Training data shape:  (500, 20, 20, 3)  and Test data shape:  (500,)\n",
            "For Resolution  30 x 30 : \n",
            "Color Training data shape:  (3177, 30, 30, 3)  and Test data shape:  (3177,)\n",
            "Color Training data shape:  (500, 30, 30, 3)  and Test data shape:  (500,)\n",
            "For Resolution  40 x 40 : \n",
            "Color Training data shape:  (3177, 40, 40, 3)  and Test data shape:  (3177,)\n",
            "Color Training data shape:  (500, 40, 40, 3)  and Test data shape:  (500,)\n",
            "For Resolution  50 x 50 : \n",
            "Color Training data shape:  (3177, 50, 50, 3)  and Test data shape:  (3177,)\n",
            "Color Training data shape:  (500, 50, 50, 3)  and Test data shape:  (500,)\n",
            "For Resolution  60 x 60 : \n",
            "Color Training data shape:  (3177, 60, 60, 3)  and Test data shape:  (3177,)\n",
            "Color Training data shape:  (500, 60, 60, 3)  and Test data shape:  (500,)\n"
          ]
        }
      ]
    },
    {
      "cell_type": "code",
      "metadata": {
        "colab": {
          "base_uri": "https://localhost:8080/"
        },
        "id": "DV6nwAc_Rkdf",
        "outputId": "50812452-c345-4f78-b2f4-981b4d372d2c"
      },
      "source": [
        "# Verifying shape of data\n",
        "for idx, val in enumerate(OptionsResolution):\n",
        "  print(\"For Resolution \",val,\"x\",val,\": \")\n",
        "  TrainDataColorList[idx] = np.reshape(TrainDataColorList[idx], (TrainDataColorList[idx].shape[0], -1))\n",
        "  TestDataColorList[idx] = np.reshape(TestDataColorList[idx], (TestDataColorList[idx].shape[0], -1))\n",
        "  print (\"Color Train Data New Shape: \",TrainDataColorList[idx].shape)\n",
        "  print (\"Color Test Data New Shape: \",TestDataColorList[idx].shape)"
      ],
      "execution_count": null,
      "outputs": [
        {
          "name": "stdout",
          "output_type": "stream",
          "text": [
            "For Resolution  10 x 10 : \n",
            "Color Train Data New Shape:  (3177, 300)\n",
            "Color Test Data New Shape:  (500, 300)\n",
            "For Resolution  20 x 20 : \n",
            "Color Train Data New Shape:  (3177, 1200)\n",
            "Color Test Data New Shape:  (500, 1200)\n",
            "For Resolution  30 x 30 : \n",
            "Color Train Data New Shape:  (3177, 2700)\n",
            "Color Test Data New Shape:  (500, 2700)\n",
            "For Resolution  40 x 40 : \n",
            "Color Train Data New Shape:  (3177, 4800)\n",
            "Color Test Data New Shape:  (500, 4800)\n",
            "For Resolution  50 x 50 : \n",
            "Color Train Data New Shape:  (3177, 7500)\n",
            "Color Test Data New Shape:  (500, 7500)\n",
            "For Resolution  60 x 60 : \n",
            "Color Train Data New Shape:  (3177, 10800)\n",
            "Color Test Data New Shape:  (500, 10800)\n"
          ]
        }
      ]
    },
    {
      "cell_type": "code",
      "metadata": {
        "id": "OV-hnXakjTZ4"
      },
      "source": [
        "from sklearn.utils import shuffle\n",
        "\n",
        "class LinearClassifier(object):\n",
        "    def __init__(self):\n",
        "        self.W = None\n",
        "\n",
        "    def train(self, X,  y, learning_rate=1e-3, reg=1e-5,\n",
        "        num_iters=300,\n",
        "        batch_size=1000,\n",
        "        verbose=True,):\n",
        "      num_train, dim = X.shape\n",
        "      num_classes = (np.max(y) + 1) \n",
        "      #if self.W is None:\n",
        "      self.W = 0.001 * np.random.randn(dim, num_classes)\n",
        "      print(self.W.shape)\n",
        "      loss_of_different_itrs = []\n",
        "      for it in range(num_iters):\n",
        "          X_batch = None\n",
        "          y_batch = None\n",
        "          rng = np.random.default_rng()\n",
        "          indices = rng.choice(num_train, batch_size)\n",
        "          X_batch , y_batch = X[indices], y[indices]\n",
        "          loss, grad = self.loss(X_batch, y_batch, reg)\n",
        "          loss_of_different_itrs.append(loss)\n",
        "          self.W += - learning_rate * grad\n",
        "          if verbose and it % 100 == 0:\n",
        "              print(\"iteration %d / %d: loss %f\" % (it, num_iters, loss))\n",
        "      return loss_of_different_itrs\n",
        "\n",
        "    def predict(self, X):\n",
        "      y_pred = np.zeros(X.shape[0])\n",
        "      scores = np.matmul(X, self.W)\n",
        "      y_pred = np.argmax(scores, axis=1)\n",
        "      return y_pred\n",
        "\n",
        "\n",
        "    def loss(self, X, y, reg):\n",
        "      loss = 0.0\n",
        "      dW = np.zeros_like(self.W)\n",
        "      num_train = X.shape[0]\n",
        "      num_classes = self.W.shape[1]\n",
        "\n",
        "      for i in range(num_train):\n",
        "        scores = X[i].dot(self.W)\n",
        "        p = np.exp(scores) / np.sum(np.exp(scores))\n",
        "\n",
        "        loss += -np.log(p[y[i]])\n",
        "        dW += np.repeat(X[i][:, np.newaxis], num_classes, axis=1) * p.T\n",
        "        dW[:,y[i]] -= X[i]\n",
        "\n",
        "      dW /= num_train\n",
        "      dW += 2 * reg * self.W\n",
        "      loss /= num_train\n",
        "      loss += reg * np.sum(self.W * self.W)\n",
        "      return loss, dW"
      ],
      "execution_count": null,
      "outputs": []
    },
    {
      "cell_type": "code",
      "metadata": {
        "id": "SikPJaTVtmHJ"
      },
      "source": [
        "def CrossFoldValidation(num_folds,OptionsResolution,TrainData,TrainLabels):\n",
        "  Train_folds = np.array_split(TrainData, num_folds)\n",
        "  Labels_folds = np.array_split(TrainLabels, num_folds)\n",
        "\n",
        "  classifierColor = LinearClassifier()\n",
        "\n",
        "  #for resolution in OptionsResolution:\n",
        "  LinearAccuracyDictionary = []   # Initialize empty list for key k\n",
        "  for i in range(num_folds):\n",
        "      Train_Fold = []\n",
        "      Label_Fold = []\n",
        "      for j, (x_fold , y_fold) in enumerate(zip(Train_folds, Labels_folds)):\n",
        "          if i != j:  # Add all data except i to later use for validation\n",
        "              Train_Fold.extend(x_fold)\n",
        "              Label_Fold.extend(y_fold)\n",
        "\n",
        "\n",
        "      Train_Fold = np.array(Train_Fold)   # Change to np\n",
        "      Label_Fold = np.array(Label_Fold)   # Change to np\n",
        "      \n",
        "\n",
        "      # use of k-nearest-neighbor algorithm on i to validate\n",
        "      classifierColor.train(Train_Fold, Label_Fold)\n",
        "      Predicted = classifierColor.predict(Train_folds[i])\n",
        "\n",
        "      # Compute the fraction of correctly predicted examples\n",
        "\n",
        "      num_correct = np.sum(Predicted == Labels_folds[i])\n",
        "      accuracy = float(num_correct) / Train_folds[i].shape[0]\n",
        "      LinearAccuracyDictionary.append(accuracy)\n",
        "  return LinearAccuracyDictionary"
      ],
      "execution_count": null,
      "outputs": []
    },
    {
      "cell_type": "code",
      "metadata": {
        "id": "9H2av3kkqDav"
      },
      "source": [
        "# Cross Fold Validation Color ------------------------------------------------------------\n",
        "kAccuracyDictionary_Color = {}\n",
        "for idx, val in enumerate(OptionsResolution):\n",
        "  AccuracyList = CrossFoldValidation(ValidationCounter,OptionsResolution,TrainDataColorList[idx],TrainLabelsColorList[idx])\n",
        "  kAccuracyDictionary_Color[val] = max(AccuracyList)"
      ],
      "execution_count": null,
      "outputs": []
    },
    {
      "cell_type": "code",
      "metadata": {
        "colab": {
          "base_uri": "https://localhost:8080/"
        },
        "id": "by2m7GyXqtBt",
        "outputId": "2ea8cfb0-ec66-4999-a9a1-4930b79125cb"
      },
      "source": [
        "print(kAccuracyDictionary_Color)"
      ],
      "execution_count": null,
      "outputs": [
        {
          "name": "stdout",
          "output_type": "stream",
          "text": [
            "{10: 0.11968503937007874, 20: 0.14803149606299212, 30: 0.15748031496062992, 40: 0.16850393700787403, 50: 0.16377952755905512, 60: 0.15748031496062992}\n"
          ]
        }
      ]
    },
    {
      "cell_type": "code",
      "metadata": {
        "colab": {
          "base_uri": "https://localhost:8080/",
          "height": 312
        },
        "id": "2cAFsf_975Oy",
        "outputId": "af2ad71e-210a-43a7-8d35-ce0a9f100d29"
      },
      "source": [
        "import matplotlib.pyplot as plt\n",
        "\n",
        "AccuracyList = []\n",
        "for i in kAccuracyDictionary_Color.values():\n",
        "  AccuracyList.append(i)\n",
        "# plot the trend line with error bars that correspond to standard deviation\n",
        "accuracies_mean = np.array([np.mean(v) for k,v in sorted(kAccuracyDictionary_Color.items())])\n",
        "accuracies_std = np.array([np.std(v) for k,v in sorted(kAccuracyDictionary_Color.items())])\n",
        "plt.title('Colored Images Linear Regression Cross Validation')\n",
        "plt.xlabel('Resolution')\n",
        "plt.ylabel('Accuracy')\n",
        "plt.plot(OptionsResolution,AccuracyList)\n",
        "bestResolution_Color=max(kAccuracyDictionary_Color, key=kAccuracyDictionary_Color.get)\n",
        "\n",
        "print(\"Best resolution found is: \",bestResolution_Color)"
      ],
      "execution_count": null,
      "outputs": [
        {
          "name": "stdout",
          "output_type": "stream",
          "text": [
            "Best resolution found is:  40\n"
          ]
        },
        {
          "data": {
            "image/png": "[encoded data removed]",
            "text/plain": [
              "<Figure size 432x288 with 1 Axes>"
            ]
          },
          "metadata": {},
          "output_type": "display_data"
        }
      ]
    },
    {
      "cell_type": "code",
      "metadata": {
        "colab": {
          "base_uri": "https://localhost:8080/"
        },
        "id": "nQ5IDE_bynGW",
        "outputId": "907bccc8-1f68-4c14-d8de-02f3d70d4219"
      },
      "source": [
        "classifierColor = LinearClassifier()\n",
        "for idx, val in enumerate(OptionsResolution):\n",
        "  if val == bestResolution_Color:\n",
        "    classifierColor.train(TrainDataColorList[idx], TrainLabelsColorList[idx])\n",
        "    ColorPrediciton = classifierColor.predict(TestDataColorList[idx])\n",
        "    print(\"For Color Images:\")\n",
        "    print(\"CCR 1 (Roses): \",np.sum(ColorPrediciton[0:100] == TestLabelsColorList[idx][0:100])/100)\n",
        "    print(\"CCR 2 (Sunflowers): \",np.sum(ColorPrediciton[100:200] == TestLabelsColorList[idx][100:200])/100)\n",
        "    print(\"CCR 3 (Tulips):\",np.sum(ColorPrediciton[200:300] == TestLabelsColorList[idx][200:300])/100)\n",
        "    print(\"CCR 4 (Daisy): \",np.sum(ColorPrediciton[300:400] == TestLabelsColorList[idx][300:400])/100)\n",
        "    print(\"CCR 5 (Dandelion): \",np.sum(ColorPrediciton[400:500] == TestLabelsColorList[idx][400:500])/100)\n",
        "    print(\"ACCR: \",np.sum(ColorPrediciton== TestLabelsColorList[idx])/500)"
      ],
      "execution_count": null,
      "outputs": [
        {
          "name": "stdout",
          "output_type": "stream",
          "text": [
            "(4800, 5)\n",
            "iteration 0 / 300: loss 1.609195\n",
            "iteration 100 / 300: loss 1.509092\n",
            "iteration 200 / 300: loss 1.466463\n",
            "For Color Images:\n",
            "CCR 1 (Roses):  0.22\n",
            "CCR 2 (Sunflowers):  0.37\n",
            "CCR 3 (Tulips): 0.44\n",
            "CCR 4 (Daisy):  0.55\n",
            "CCR 5 (Dandelion):  0.58\n",
            "ACCR:  0.432\n"
          ]
        }
      ]
    },
    {
      "cell_type": "code",
      "metadata": {
        "id": "6ScdvuRV9P6M"
      },
      "source": [
        "# Cross Fold Validation Gray ------------------------------------------------------------\n",
        "kAccuracyDictionary_Gray = {}\n",
        "for idx, val in enumerate(OptionsResolution):\n",
        "  AccuracyList = CrossFoldValidation(ValidationCounter,OptionsResolution,TrainDataGrayList[idx],TrainLabelsGrayList[idx])\n",
        "  kAccuracyDictionary_Gray[val] = max(AccuracyList)"
      ],
      "execution_count": null,
      "outputs": []
    },
    {
      "cell_type": "code",
      "metadata": {
        "id": "oUxZ3EXjTAGm"
      },
      "source": [
        "# Gray Images Loading ------------------------------------------------------------\n",
        "try:\n",
        "   del TrainDataGrayList, TrainLabelsGrayList\n",
        "   del TestDataGrayList, TestLabelsGrayList\n",
        "   print('Clear previously loaded data.')\n",
        "except:\n",
        "   pass\n",
        "\n",
        "TrainDataGrayList,TrainLabelsGrayList = Load(datadir,Folders,ImageNamesTrain,\"Gray\")\n",
        "TestDataGrayList,TestLabelsGrayList = Load(datadir,Folders,ImageNamesTest,\"Gray\")\n"
      ],
      "execution_count": null,
      "outputs": []
    },
    {
      "cell_type": "code",
      "metadata": {
        "colab": {
          "base_uri": "https://localhost:8080/"
        },
        "id": "BclzdlJ-Xkn9",
        "outputId": "d5420145-bee6-4ae0-a8aa-beb05113f8e3"
      },
      "source": [
        "for idx, val in enumerate(OptionsResolution):\n",
        "  print(\"For Resolution \",val,\"x\",val,\": \")\n",
        "  print(\"Gray Training data shape: \",TrainDataGrayList[idx].shape,\" and Test data shape: \",TrainLabelsGrayList[idx].shape)\n",
        "  print(\"Gray Training data shape: \",TestDataGrayList[idx].shape,\" and Test data shape: \",TestLabelsGrayList[idx].shape)\n"
      ],
      "execution_count": null,
      "outputs": [
        {
          "output_type": "stream",
          "name": "stdout",
          "text": [
            "For Resolution  10 x 10 : \n",
            "Gray Training data shape:  (3177, 10, 10)  and Test data shape:  (3177,)\n",
            "Gray Training data shape:  (500, 10, 10)  and Test data shape:  (500,)\n",
            "For Resolution  20 x 20 : \n",
            "Gray Training data shape:  (3177, 20, 20)  and Test data shape:  (3177,)\n",
            "Gray Training data shape:  (500, 20, 20)  and Test data shape:  (500,)\n",
            "For Resolution  30 x 30 : \n",
            "Gray Training data shape:  (3177, 30, 30)  and Test data shape:  (3177,)\n",
            "Gray Training data shape:  (500, 30, 30)  and Test data shape:  (500,)\n",
            "For Resolution  40 x 40 : \n",
            "Gray Training data shape:  (3177, 40, 40)  and Test data shape:  (3177,)\n",
            "Gray Training data shape:  (500, 40, 40)  and Test data shape:  (500,)\n",
            "For Resolution  50 x 50 : \n",
            "Gray Training data shape:  (3177, 50, 50)  and Test data shape:  (3177,)\n",
            "Gray Training data shape:  (500, 50, 50)  and Test data shape:  (500,)\n",
            "For Resolution  60 x 60 : \n",
            "Gray Training data shape:  (3177, 60, 60)  and Test data shape:  (3177,)\n",
            "Gray Training data shape:  (500, 60, 60)  and Test data shape:  (500,)\n"
          ]
        }
      ]
    },
    {
      "cell_type": "code",
      "metadata": {
        "colab": {
          "base_uri": "https://localhost:8080/"
        },
        "id": "hsQSjN2XXp67",
        "outputId": "bd4e830f-a521-4796-e109-01976cb73ed2"
      },
      "source": [
        "# Verifying shape of data\n",
        "for idx, val in enumerate(OptionsResolution):\n",
        "  print(\"For Resolution \",val,\"x\",val,\": \")\n",
        "  TrainDataGrayList[idx] = np.reshape(TrainDataGrayList[idx], (TrainDataGrayList[idx].shape[0], -1))\n",
        "  TestDataGrayList[idx] = np.reshape(TestDataGrayList[idx], (TestDataGrayList[idx].shape[0], -1))\n",
        "  print (\"Gray Train Data New Shape: \",TrainDataGrayList[idx].shape)\n",
        "  print (\"Gray Test Data New Shape: \",TestDataGrayList[idx].shape)"
      ],
      "execution_count": null,
      "outputs": [
        {
          "output_type": "stream",
          "name": "stdout",
          "text": [
            "For Resolution  10 x 10 : \n",
            "Gray Train Data New Shape:  (3177, 100)\n",
            "Gray Test Data New Shape:  (500, 100)\n",
            "For Resolution  20 x 20 : \n",
            "Gray Train Data New Shape:  (3177, 400)\n",
            "Gray Test Data New Shape:  (500, 400)\n",
            "For Resolution  30 x 30 : \n",
            "Gray Train Data New Shape:  (3177, 900)\n",
            "Gray Test Data New Shape:  (500, 900)\n",
            "For Resolution  40 x 40 : \n",
            "Gray Train Data New Shape:  (3177, 1600)\n",
            "Gray Test Data New Shape:  (500, 1600)\n",
            "For Resolution  50 x 50 : \n",
            "Gray Train Data New Shape:  (3177, 2500)\n",
            "Gray Test Data New Shape:  (500, 2500)\n",
            "For Resolution  60 x 60 : \n",
            "Gray Train Data New Shape:  (3177, 3600)\n",
            "Gray Test Data New Shape:  (500, 3600)\n"
          ]
        }
      ]
    },
    {
      "cell_type": "code",
      "metadata": {
        "id": "Lzod2Vg0WKGY"
      },
      "source": [
        "import matplotlib.pyplot as plt\n",
        "\n",
        "AccuracyList = []\n",
        "for i in kAccuracyDictionary_Gray.values():\n",
        "  AccuracyList.append(i)\n",
        "# plot the trend line with error bars that correspond to standard deviation\n",
        "accuracies_mean = np.array([np.mean(v) for k,v in sorted(kAccuracyDictionary_Gray.items())])\n",
        "accuracies_std = np.array([np.std(v) for k,v in sorted(kAccuracyDictionary_Gray.items())])\n",
        "plt.title('Colored Images Linear Regression Cross Validation')\n",
        "plt.xlabel('Resolution')\n",
        "plt.ylabel('Accuracy')\n",
        "plt.plot(OptionsResolution,AccuracyList)\n",
        "bestResolution_Gray=max(kAccuracyDictionary_Gray, key=kAccuracyDictionary_Gray.get)\n",
        "\n",
        "print(\"Best resolution found is: \",bestResolution_Gray)"
      ],
      "execution_count": null,
      "outputs": []
    },
    {
      "cell_type": "code",
      "metadata": {
        "id": "qAuD4ByaUQnM",
        "colab": {
          "base_uri": "https://localhost:8080/"
        },
        "outputId": "cd4e97da-92a6-4ab3-d37c-a8b095187a67"
      },
      "source": [
        "classifierGray = LinearClassifier()\n",
        "for idx, val in enumerate(OptionsResolution):\n",
        "  if val == bestResolution_Gray:\n",
        "    classifierGray.train(TrainDataGrayList[idx], TrainLabelsGrayList[idx])\n",
        "    GrayPrediciton = classifierGray.predict(TestDataGrayList[idx])\n",
        "    print(\"For Gray Images:\")\n",
        "    print(\"CCR 1 (Roses): \",np.sum(GrayPrediciton[0:100] == TestLabelsGrayList[idx][0:100])/100)\n",
        "    print(\"CCR 2 (Sunflowers): \",np.sum(GrayPrediciton[100:200] == TestLabelsGrayList[idx][100:200])/100)\n",
        "    print(\"CCR 3 (Tulips):\",np.sum(GrayPrediciton[200:300] == TestLabelsGrayList[idx][200:300])/100)\n",
        "    print(\"CCR 4 (Daisy): \",np.sum(GrayPrediciton[300:400] == TestLabelsGrayList[idx][300:400])/100)\n",
        "    print(\"CCR 5 (Dandelion): \",np.sum(GrayPrediciton[400:500] == TestLabelsGrayList[idx][400:500])/100)\n",
        "    print(\"ACCR: \",np.sum(GrayPrediciton== TestLabelsGrayList[idx])/500)\n"
      ],
      "execution_count": null,
      "outputs": [
        {
          "output_type": "stream",
          "name": "stdout",
          "text": [
            "(1600, 5)\n",
            "iteration 0 / 300: loss 1.609433\n",
            "iteration 100 / 300: loss 1.572257\n",
            "iteration 200 / 300: loss 1.550869\n",
            "For Gray Images:\n",
            "CCR 1 (Roses):  0.07\n",
            "CCR 2 (Sunflowers):  0.33\n",
            "CCR 3 (Tulips): 0.04\n",
            "CCR 4 (Daisy):  0.46\n",
            "CCR 5 (Dandelion):  0.61\n",
            "ACCR:  0.302\n"
          ]
        }
      ]
    }
  ]
}