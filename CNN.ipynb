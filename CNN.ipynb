{
  "nbformat": 4,
  "nbformat_minor": 0,
  "metadata": {
    "accelerator": "GPU",
    "colab": {
      "name": "HW3_900170269.ipynb",
      "provenance": [],
      "collapsed_sections": [
        "zF9uvbXNVrVY"
      ]
    },
    "kernelspec": {
      "display_name": "Python 3",
      "name": "python3"
    }
  },
  "cells": [
    {
      "cell_type": "markdown",
      "metadata": {
        "id": "zF9uvbXNVrVY"
      },
      "source": [
        "# Importing Packages"
      ]
    },
    {
      "cell_type": "code",
      "metadata": {
        "id": "rtPGh2MAVrVa"
      },
      "source": [
        "import os\n",
        "import numpy as np\n",
        "import glob\n",
        "import shutil\n",
        "import matplotlib.pyplot as plt\n",
        "import tqdm"
      ],
      "execution_count": null,
      "outputs": []
    },
    {
      "cell_type": "code",
      "metadata": {
        "id": "L1WtoaOHVrVh"
      },
      "source": [
        "import tensorflow as tf\n",
        "from tensorflow.keras.models import Sequential\n",
        "from tensorflow.keras.layers import Dense, Conv2D, Flatten, Dropout, MaxPooling2D\n",
        "from tensorflow.keras.preprocessing.image import ImageDataGenerator"
      ],
      "execution_count": null,
      "outputs": []
    },
    {
      "cell_type": "markdown",
      "metadata": {
        "id": "UZZI6lNkVrVm"
      },
      "source": [
        "# Data Loading"
      ]
    },
    {
      "cell_type": "code",
      "metadata": {
        "colab": {
          "base_uri": "https://localhost:8080/"
        },
        "id": "OYmOylPlVrVt",
        "outputId": "6c6168e4-7f0b-443d-dcfc-df09500861fa"
      },
      "source": [
        "_URL = \"http://download.tensorflow.org/example_images/flower_photos.tgz\"\n",
        "\n",
        "zip_file = tf.keras.utils.get_file(origin=_URL,\n",
        "                                   fname=\"flower_photos.tgz\",\n",
        "                                   extract=True)\n",
        "\n",
        "base_dir = os.path.join(os.path.dirname(zip_file), 'flower_photos')\n",
        "print(base_dir)"
      ],
      "execution_count": null,
      "outputs": [
        {
          "output_type": "stream",
          "name": "stdout",
          "text": [
            "Downloading data from http://download.tensorflow.org/example_images/flower_photos.tgz\n",
            "228818944/228813984 [==============================] - 2s 0us/step\n",
            "228827136/228813984 [==============================] - 2s 0us/step\n",
            "/root/.keras/datasets/flower_photos\n"
          ]
        }
      ]
    },
    {
      "cell_type": "code",
      "metadata": {
        "colab": {
          "base_uri": "https://localhost:8080/"
        },
        "id": "a-AL030LmcdD",
        "outputId": "12d4f729-c024-48d5-fc97-0e566884e7cd"
      },
      "source": [
        "numberOfTestPerClass = 100 \n",
        "classes = ['roses', 'daisy', 'dandelion', 'sunflowers', 'tulips']\n",
        "for cl in classes:\n",
        "  img_path = os.path.join(base_dir, cl)\n",
        "  images = glob.glob(img_path + '/*.jpg')\n",
        "  print(\"{}: {} Images\".format(cl, len(images)))\n",
        "  num_train = int(round(len(images)*0.8))\n",
        "  images = sorted(images)\n",
        "  train, val, test = images[:-numberOfTestPerClass*2], images[-numberOfTestPerClass*2:-numberOfTestPerClass], images[-numberOfTestPerClass:]\n",
        "\n",
        "  for image in tqdm.tqdm(train):\n",
        "      destination = os.path.join(base_dir+'/train', cl)\n",
        "      os.makedirs(destination, exist_ok=True)\n",
        "      shutil.copy(os.path.join(img_path, image), destination)\n",
        "      \n",
        "  for image in tqdm.tqdm(val):\n",
        "      destination = os.path.join(base_dir+'/val', cl)\n",
        "      os.makedirs(destination, exist_ok=True)\n",
        "      shutil.copy(os.path.join(img_path, image), destination)\n",
        "\n",
        "  for image in tqdm.tqdm(test):\n",
        "      destination = os.path.join(base_dir+'/test', cl)\n",
        "      os.makedirs(destination, exist_ok=True)\n",
        "      shutil.copy(os.path.join(img_path, image), destination)\n",
        "        \n",
        "train_dir = os.path.join(base_dir, 'train')\n",
        "val_dir = os.path.join(base_dir, 'val')\n",
        "test_dir = os.path.join(base_dir, 'test')"
      ],
      "execution_count": null,
      "outputs": [
        {
          "output_type": "stream",
          "name": "stdout",
          "text": [
            "roses: 641 Images\n"
          ]
        },
        {
          "output_type": "stream",
          "name": "stderr",
          "text": [
            "100%|██████████| 441/441 [00:00<00:00, 2827.73it/s]\n",
            "100%|██████████| 100/100 [00:00<00:00, 2349.49it/s]\n",
            "100%|██████████| 100/100 [00:00<00:00, 2354.56it/s]\n"
          ]
        },
        {
          "output_type": "stream",
          "name": "stdout",
          "text": [
            "daisy: 633 Images\n"
          ]
        },
        {
          "output_type": "stream",
          "name": "stderr",
          "text": [
            "100%|██████████| 433/433 [00:00<00:00, 2667.82it/s]\n",
            "100%|██████████| 100/100 [00:00<00:00, 2641.18it/s]\n",
            "100%|██████████| 100/100 [00:00<00:00, 3404.11it/s]\n"
          ]
        },
        {
          "output_type": "stream",
          "name": "stdout",
          "text": [
            "dandelion: 898 Images\n"
          ]
        },
        {
          "output_type": "stream",
          "name": "stderr",
          "text": [
            "100%|██████████| 698/698 [00:00<00:00, 3909.25it/s]\n",
            "100%|██████████| 100/100 [00:00<00:00, 2781.61it/s]\n",
            "100%|██████████| 100/100 [00:00<00:00, 3431.88it/s]\n"
          ]
        },
        {
          "output_type": "stream",
          "name": "stdout",
          "text": [
            "sunflowers: 699 Images\n"
          ]
        },
        {
          "output_type": "stream",
          "name": "stderr",
          "text": [
            "100%|██████████| 499/499 [00:00<00:00, 2840.52it/s]\n",
            "100%|██████████| 100/100 [00:00<00:00, 2061.81it/s]\n",
            "100%|██████████| 100/100 [00:00<00:00, 2916.40it/s]\n"
          ]
        },
        {
          "output_type": "stream",
          "name": "stdout",
          "text": [
            "tulips: 799 Images\n"
          ]
        },
        {
          "output_type": "stream",
          "name": "stderr",
          "text": [
            "100%|██████████| 599/599 [00:00<00:00, 2879.61it/s]\n",
            "100%|██████████| 100/100 [00:00<00:00, 3280.23it/s]\n",
            "100%|██████████| 100/100 [00:00<00:00, 3483.12it/s]\n"
          ]
        }
      ]
    },
    {
      "cell_type": "markdown",
      "metadata": {
        "id": "UOoVpxFwVrWy"
      },
      "source": [
        "# Data Preprocessing"
      ]
    },
    {
      "cell_type": "code",
      "metadata": {
        "id": "QyPkET61yMMX"
      },
      "source": [
        "batch_size = 100\n",
        "IMG_SHAPE = 150 "
      ],
      "execution_count": null,
      "outputs": []
    },
    {
      "cell_type": "code",
      "metadata": {
        "colab": {
          "base_uri": "https://localhost:8080/"
        },
        "id": "gnr2xujaVrXe",
        "outputId": "4cd101b1-bc90-4297-f2f6-fb21cca6b3d1"
      },
      "source": [
        "image_gen_train = ImageDataGenerator(rescale=1./255,rotation_range=45,\n",
        "                    width_shift_range=.15,height_shift_range=.15,\n",
        "                    horizontal_flip=True,zoom_range=0.5)\n",
        "\n",
        "image_gen_val = ImageDataGenerator(rescale=1./255)\n",
        "\n",
        "train_data_gen = image_gen_train.flow_from_directory(batch_size=batch_size, directory=train_dir, \n",
        "                                                     shuffle=True,target_size=(IMG_SHAPE,IMG_SHAPE),\n",
        "                                                     class_mode='sparse')\n",
        "\n",
        "\n",
        "val_data_gen = image_gen_val.flow_from_directory(batch_size=batch_size,directory=val_dir,\n",
        "                                                 target_size=(IMG_SHAPE, IMG_SHAPE),\n",
        "                                                 class_mode='sparse')\n",
        "\n",
        "test_data_gen = image_gen_val.flow_from_directory(batch_size=batch_size,\n",
        "                                                 directory=test_dir,\n",
        "                                                 shuffle=False,target_size=(IMG_SHAPE, IMG_SHAPE),\n",
        "                                                 class_mode='sparse')"
      ],
      "execution_count": null,
      "outputs": [
        {
          "output_type": "stream",
          "name": "stdout",
          "text": [
            "Found 2670 images belonging to 5 classes.\n",
            "Found 500 images belonging to 5 classes.\n",
            "Found 500 images belonging to 5 classes.\n"
          ]
        }
      ]
    },
    {
      "cell_type": "markdown",
      "metadata": {
        "id": "wEgW4i18VrWZ"
      },
      "source": [
        "# CNN Creation"
      ]
    },
    {
      "cell_type": "code",
      "metadata": {
        "id": "Evjf8jZk2zi-",
        "colab": {
          "base_uri": "https://localhost:8080/"
        },
        "outputId": "224fb3f7-7472-471c-db9b-5778c3415339"
      },
      "source": [
        "model = Sequential()\n",
        "\n",
        "model.add(Conv2D(16, 3, padding='same', activation='relu', input_shape=(IMG_SHAPE,IMG_SHAPE, 3)))\n",
        "model.add(MaxPooling2D(pool_size=(2, 2)))\n",
        "\n",
        "model.add(Conv2D(32, 3, padding='same', activation='relu'))\n",
        "model.add(MaxPooling2D(pool_size=(2, 2)))\n",
        "\n",
        "model.add(Conv2D(64, 3, padding='same', activation='relu'))\n",
        "model.add(MaxPooling2D(pool_size=(2, 2)))\n",
        "\n",
        "model.add(Flatten())\n",
        "model.add(Dropout(0.2))\n",
        "model.add(Dense(512, activation='relu'))\n",
        "\n",
        "model.add(Dropout(0.2))\n",
        "model.add(Dense(5))\n",
        "model.summary()"
      ],
      "execution_count": null,
      "outputs": [
        {
          "output_type": "stream",
          "name": "stdout",
          "text": [
            "Model: \"sequential\"\n",
            "_________________________________________________________________\n",
            " Layer (type)                Output Shape              Param #   \n",
            "=================================================================\n",
            " conv2d (Conv2D)             (None, 150, 150, 16)      448       \n",
            "                                                                 \n",
            " max_pooling2d (MaxPooling2D  (None, 75, 75, 16)       0         \n",
            " )                                                               \n",
            "                                                                 \n",
            " conv2d_1 (Conv2D)           (None, 75, 75, 32)        4640      \n",
            "                                                                 \n",
            " max_pooling2d_1 (MaxPooling  (None, 37, 37, 32)       0         \n",
            " 2D)                                                             \n",
            "                                                                 \n",
            " conv2d_2 (Conv2D)           (None, 37, 37, 64)        18496     \n",
            "                                                                 \n",
            " max_pooling2d_2 (MaxPooling  (None, 18, 18, 64)       0         \n",
            " 2D)                                                             \n",
            "                                                                 \n",
            " flatten (Flatten)           (None, 20736)             0         \n",
            "                                                                 \n",
            " dropout (Dropout)           (None, 20736)             0         \n",
            "                                                                 \n",
            " dense (Dense)               (None, 512)               10617344  \n",
            "                                                                 \n",
            " dropout_1 (Dropout)         (None, 512)               0         \n",
            "                                                                 \n",
            " dense_1 (Dense)             (None, 5)                 2565      \n",
            "                                                                 \n",
            "=================================================================\n",
            "Total params: 10,643,493\n",
            "Trainable params: 10,643,493\n",
            "Non-trainable params: 0\n",
            "_________________________________________________________________\n"
          ]
        }
      ]
    },
    {
      "cell_type": "markdown",
      "metadata": {
        "id": "oub9RtoFVrWk"
      },
      "source": [
        "# Training"
      ]
    },
    {
      "cell_type": "code",
      "metadata": {
        "id": "08rRJ0sn3Tb1"
      },
      "source": [
        "model.compile(optimizer='adam',\n",
        "              loss=tf.keras.losses.SparseCategoricalCrossentropy(from_logits=True),\n",
        "              metrics=['accuracy'])"
      ],
      "execution_count": null,
      "outputs": []
    },
    {
      "cell_type": "code",
      "metadata": {
        "colab": {
          "base_uri": "https://localhost:8080/"
        },
        "id": "tk5NT1PW3j_P",
        "outputId": "505d47ba-8cb6-47ae-cd15-c628344df905"
      },
      "source": [
        "epochs = 80\n",
        "\n",
        "history = model.fit_generator(\n",
        "    train_data_gen,\n",
        "    steps_per_epoch=int(np.ceil(train_data_gen.n / float(batch_size))),\n",
        "    epochs=epochs,\n",
        "    validation_data=val_data_gen,\n",
        "    validation_steps=int(np.ceil(val_data_gen.n / float(batch_size)))\n",
        ")"
      ],
      "execution_count": null,
      "outputs": [
        {
          "output_type": "stream",
          "name": "stderr",
          "text": [
            "/usr/local/lib/python3.7/dist-packages/ipykernel_launcher.py:8: UserWarning: `Model.fit_generator` is deprecated and will be removed in a future version. Please use `Model.fit`, which supports generators.\n",
            "  \n"
          ]
        },
        {
          "output_type": "stream",
          "name": "stdout",
          "text": [
            "Epoch 1/80\n",
            "27/27 [==============================] - 34s 802ms/step - loss: 1.4725 - accuracy: 0.3730 - val_loss: 1.2852 - val_accuracy: 0.3960\n",
            "Epoch 2/80\n",
            "27/27 [==============================] - 22s 795ms/step - loss: 1.1725 - accuracy: 0.4989 - val_loss: 1.1222 - val_accuracy: 0.5220\n",
            "Epoch 3/80\n",
            "27/27 [==============================] - 22s 800ms/step - loss: 1.0729 - accuracy: 0.5610 - val_loss: 0.9885 - val_accuracy: 0.6220\n",
            "Epoch 4/80\n",
            "27/27 [==============================] - 21s 785ms/step - loss: 1.0015 - accuracy: 0.6127 - val_loss: 1.0447 - val_accuracy: 0.5740\n",
            "Epoch 5/80\n",
            "27/27 [==============================] - 22s 802ms/step - loss: 0.9469 - accuracy: 0.6225 - val_loss: 0.9417 - val_accuracy: 0.6360\n",
            "Epoch 6/80\n",
            "27/27 [==============================] - 22s 830ms/step - loss: 0.8902 - accuracy: 0.6569 - val_loss: 0.9415 - val_accuracy: 0.6200\n",
            "Epoch 7/80\n",
            "27/27 [==============================] - 22s 825ms/step - loss: 0.8565 - accuracy: 0.6592 - val_loss: 0.9046 - val_accuracy: 0.6740\n",
            "Epoch 8/80\n",
            "27/27 [==============================] - 22s 824ms/step - loss: 0.8442 - accuracy: 0.6648 - val_loss: 0.8852 - val_accuracy: 0.6480\n",
            "Epoch 9/80\n",
            "27/27 [==============================] - 22s 824ms/step - loss: 0.8342 - accuracy: 0.6876 - val_loss: 0.8705 - val_accuracy: 0.6760\n",
            "Epoch 10/80\n",
            "27/27 [==============================] - 22s 822ms/step - loss: 0.7866 - accuracy: 0.6978 - val_loss: 0.9751 - val_accuracy: 0.6220\n",
            "Epoch 11/80\n",
            "27/27 [==============================] - 22s 820ms/step - loss: 0.7961 - accuracy: 0.7000 - val_loss: 0.8527 - val_accuracy: 0.6720\n",
            "Epoch 12/80\n",
            "27/27 [==============================] - 22s 821ms/step - loss: 0.7680 - accuracy: 0.7064 - val_loss: 0.8728 - val_accuracy: 0.6600\n",
            "Epoch 13/80\n",
            "27/27 [==============================] - 23s 856ms/step - loss: 0.7569 - accuracy: 0.7067 - val_loss: 0.8062 - val_accuracy: 0.7000\n",
            "Epoch 14/80\n",
            "27/27 [==============================] - 23s 842ms/step - loss: 0.7491 - accuracy: 0.7075 - val_loss: 0.8141 - val_accuracy: 0.6740\n",
            "Epoch 15/80\n",
            "27/27 [==============================] - 22s 816ms/step - loss: 0.7102 - accuracy: 0.7273 - val_loss: 0.8139 - val_accuracy: 0.6880\n",
            "Epoch 16/80\n",
            "27/27 [==============================] - 22s 808ms/step - loss: 0.6853 - accuracy: 0.7404 - val_loss: 0.8691 - val_accuracy: 0.6700\n",
            "Epoch 17/80\n",
            "27/27 [==============================] - 22s 814ms/step - loss: 0.6764 - accuracy: 0.7419 - val_loss: 0.8020 - val_accuracy: 0.6760\n",
            "Epoch 18/80\n",
            "27/27 [==============================] - 22s 813ms/step - loss: 0.6856 - accuracy: 0.7277 - val_loss: 0.8018 - val_accuracy: 0.6880\n",
            "Epoch 19/80\n",
            "27/27 [==============================] - 22s 816ms/step - loss: 0.6822 - accuracy: 0.7277 - val_loss: 0.8638 - val_accuracy: 0.6840\n",
            "Epoch 20/80\n",
            "27/27 [==============================] - 22s 822ms/step - loss: 0.6507 - accuracy: 0.7461 - val_loss: 0.8545 - val_accuracy: 0.6540\n",
            "Epoch 21/80\n",
            "27/27 [==============================] - 22s 820ms/step - loss: 0.6331 - accuracy: 0.7536 - val_loss: 0.7582 - val_accuracy: 0.6940\n",
            "Epoch 22/80\n",
            "27/27 [==============================] - 22s 803ms/step - loss: 0.6441 - accuracy: 0.7573 - val_loss: 0.8163 - val_accuracy: 0.6800\n",
            "Epoch 23/80\n",
            "27/27 [==============================] - 22s 816ms/step - loss: 0.6226 - accuracy: 0.7513 - val_loss: 0.8931 - val_accuracy: 0.6880\n",
            "Epoch 24/80\n",
            "27/27 [==============================] - 22s 807ms/step - loss: 0.6260 - accuracy: 0.7539 - val_loss: 0.8364 - val_accuracy: 0.6880\n",
            "Epoch 25/80\n",
            "27/27 [==============================] - 22s 815ms/step - loss: 0.6072 - accuracy: 0.7700 - val_loss: 0.8443 - val_accuracy: 0.7040\n",
            "Epoch 26/80\n",
            "27/27 [==============================] - 21s 789ms/step - loss: 0.6317 - accuracy: 0.7648 - val_loss: 0.8587 - val_accuracy: 0.6840\n",
            "Epoch 27/80\n",
            "27/27 [==============================] - 22s 804ms/step - loss: 0.6007 - accuracy: 0.7742 - val_loss: 0.8255 - val_accuracy: 0.7100\n",
            "Epoch 28/80\n",
            "27/27 [==============================] - 22s 800ms/step - loss: 0.6091 - accuracy: 0.7719 - val_loss: 0.8061 - val_accuracy: 0.7260\n",
            "Epoch 29/80\n",
            "27/27 [==============================] - 22s 802ms/step - loss: 0.5747 - accuracy: 0.7682 - val_loss: 0.8343 - val_accuracy: 0.7080\n",
            "Epoch 30/80\n",
            "27/27 [==============================] - 22s 812ms/step - loss: 0.5622 - accuracy: 0.7899 - val_loss: 0.8178 - val_accuracy: 0.7040\n",
            "Epoch 31/80\n",
            "27/27 [==============================] - 22s 798ms/step - loss: 0.5907 - accuracy: 0.7674 - val_loss: 0.7813 - val_accuracy: 0.7120\n",
            "Epoch 32/80\n",
            "27/27 [==============================] - 21s 792ms/step - loss: 0.5661 - accuracy: 0.7880 - val_loss: 0.8347 - val_accuracy: 0.7060\n",
            "Epoch 33/80\n",
            "27/27 [==============================] - 22s 803ms/step - loss: 0.5541 - accuracy: 0.7828 - val_loss: 0.7895 - val_accuracy: 0.7120\n",
            "Epoch 34/80\n",
            "27/27 [==============================] - 22s 801ms/step - loss: 0.5448 - accuracy: 0.7951 - val_loss: 0.8362 - val_accuracy: 0.7080\n",
            "Epoch 35/80\n",
            "27/27 [==============================] - 22s 803ms/step - loss: 0.5554 - accuracy: 0.7884 - val_loss: 0.9504 - val_accuracy: 0.6620\n",
            "Epoch 36/80\n",
            "27/27 [==============================] - 22s 805ms/step - loss: 0.5500 - accuracy: 0.7963 - val_loss: 0.7505 - val_accuracy: 0.7060\n",
            "Epoch 37/80\n",
            "27/27 [==============================] - 22s 800ms/step - loss: 0.5110 - accuracy: 0.8082 - val_loss: 0.7848 - val_accuracy: 0.6980\n",
            "Epoch 38/80\n",
            "27/27 [==============================] - 22s 793ms/step - loss: 0.5069 - accuracy: 0.8034 - val_loss: 1.0249 - val_accuracy: 0.6640\n",
            "Epoch 39/80\n",
            "27/27 [==============================] - 22s 805ms/step - loss: 0.5252 - accuracy: 0.7981 - val_loss: 0.8082 - val_accuracy: 0.7200\n",
            "Epoch 40/80\n",
            "27/27 [==============================] - 22s 807ms/step - loss: 0.5165 - accuracy: 0.7996 - val_loss: 0.8273 - val_accuracy: 0.7040\n",
            "Epoch 41/80\n",
            "27/27 [==============================] - 22s 804ms/step - loss: 0.4918 - accuracy: 0.8146 - val_loss: 0.7562 - val_accuracy: 0.7240\n",
            "Epoch 42/80\n",
            "27/27 [==============================] - 22s 802ms/step - loss: 0.4838 - accuracy: 0.8165 - val_loss: 0.8122 - val_accuracy: 0.7080\n",
            "Epoch 43/80\n",
            "27/27 [==============================] - 22s 796ms/step - loss: 0.5012 - accuracy: 0.8052 - val_loss: 0.8451 - val_accuracy: 0.7020\n",
            "Epoch 44/80\n",
            "27/27 [==============================] - 21s 789ms/step - loss: 0.4718 - accuracy: 0.8120 - val_loss: 0.7972 - val_accuracy: 0.7120\n",
            "Epoch 45/80\n",
            "27/27 [==============================] - 21s 795ms/step - loss: 0.4518 - accuracy: 0.8247 - val_loss: 0.8238 - val_accuracy: 0.7060\n",
            "Epoch 46/80\n",
            "27/27 [==============================] - 21s 794ms/step - loss: 0.4673 - accuracy: 0.8157 - val_loss: 0.8123 - val_accuracy: 0.7180\n",
            "Epoch 47/80\n",
            "27/27 [==============================] - 22s 797ms/step - loss: 0.4619 - accuracy: 0.8292 - val_loss: 0.8166 - val_accuracy: 0.7200\n",
            "Epoch 48/80\n",
            "27/27 [==============================] - 21s 791ms/step - loss: 0.4480 - accuracy: 0.8270 - val_loss: 0.8052 - val_accuracy: 0.7180\n",
            "Epoch 49/80\n",
            "27/27 [==============================] - 22s 801ms/step - loss: 0.4522 - accuracy: 0.8296 - val_loss: 0.7697 - val_accuracy: 0.7280\n",
            "Epoch 50/80\n",
            "27/27 [==============================] - 21s 787ms/step - loss: 0.4319 - accuracy: 0.8352 - val_loss: 0.9348 - val_accuracy: 0.7000\n",
            "Epoch 51/80\n",
            "27/27 [==============================] - 22s 802ms/step - loss: 0.4181 - accuracy: 0.8401 - val_loss: 0.8035 - val_accuracy: 0.7080\n",
            "Epoch 52/80\n",
            "27/27 [==============================] - 22s 804ms/step - loss: 0.4267 - accuracy: 0.8416 - val_loss: 0.7462 - val_accuracy: 0.7400\n",
            "Epoch 53/80\n",
            "27/27 [==============================] - 22s 801ms/step - loss: 0.4160 - accuracy: 0.8453 - val_loss: 0.8678 - val_accuracy: 0.7180\n",
            "Epoch 54/80\n",
            "27/27 [==============================] - 22s 797ms/step - loss: 0.4453 - accuracy: 0.8300 - val_loss: 0.8527 - val_accuracy: 0.7300\n",
            "Epoch 55/80\n",
            "27/27 [==============================] - 22s 797ms/step - loss: 0.4286 - accuracy: 0.8419 - val_loss: 0.8679 - val_accuracy: 0.7240\n",
            "Epoch 56/80\n",
            "27/27 [==============================] - 22s 811ms/step - loss: 0.4176 - accuracy: 0.8363 - val_loss: 0.8363 - val_accuracy: 0.7140\n",
            "Epoch 57/80\n",
            "27/27 [==============================] - 22s 807ms/step - loss: 0.3964 - accuracy: 0.8461 - val_loss: 0.7993 - val_accuracy: 0.7380\n",
            "Epoch 58/80\n",
            "27/27 [==============================] - 22s 804ms/step - loss: 0.4081 - accuracy: 0.8393 - val_loss: 0.8206 - val_accuracy: 0.7500\n",
            "Epoch 59/80\n",
            "27/27 [==============================] - 22s 800ms/step - loss: 0.4086 - accuracy: 0.8472 - val_loss: 0.9321 - val_accuracy: 0.7220\n",
            "Epoch 60/80\n",
            "27/27 [==============================] - 21s 792ms/step - loss: 0.4042 - accuracy: 0.8487 - val_loss: 0.8512 - val_accuracy: 0.7460\n",
            "Epoch 61/80\n",
            "27/27 [==============================] - 22s 795ms/step - loss: 0.4198 - accuracy: 0.8464 - val_loss: 0.7976 - val_accuracy: 0.7540\n",
            "Epoch 62/80\n",
            "27/27 [==============================] - 22s 805ms/step - loss: 0.3867 - accuracy: 0.8472 - val_loss: 0.9059 - val_accuracy: 0.7460\n",
            "Epoch 63/80\n",
            "27/27 [==============================] - 21s 793ms/step - loss: 0.3726 - accuracy: 0.8618 - val_loss: 0.8597 - val_accuracy: 0.7460\n",
            "Epoch 64/80\n",
            "27/27 [==============================] - 22s 801ms/step - loss: 0.3640 - accuracy: 0.8618 - val_loss: 0.8518 - val_accuracy: 0.7380\n",
            "Epoch 65/80\n",
            "27/27 [==============================] - 22s 794ms/step - loss: 0.3413 - accuracy: 0.8693 - val_loss: 0.9312 - val_accuracy: 0.7280\n",
            "Epoch 66/80\n",
            "27/27 [==============================] - 22s 798ms/step - loss: 0.3662 - accuracy: 0.8652 - val_loss: 0.9413 - val_accuracy: 0.7200\n",
            "Epoch 67/80\n",
            "27/27 [==============================] - 21s 790ms/step - loss: 0.3546 - accuracy: 0.8625 - val_loss: 1.0082 - val_accuracy: 0.7140\n",
            "Epoch 68/80\n",
            "27/27 [==============================] - 22s 802ms/step - loss: 0.3692 - accuracy: 0.8622 - val_loss: 0.8788 - val_accuracy: 0.7520\n",
            "Epoch 69/80\n",
            "27/27 [==============================] - 21s 790ms/step - loss: 0.3502 - accuracy: 0.8682 - val_loss: 0.9675 - val_accuracy: 0.7320\n",
            "Epoch 70/80\n",
            "27/27 [==============================] - 21s 783ms/step - loss: 0.3605 - accuracy: 0.8693 - val_loss: 0.9486 - val_accuracy: 0.7200\n",
            "Epoch 71/80\n",
            "27/27 [==============================] - 21s 786ms/step - loss: 0.3617 - accuracy: 0.8652 - val_loss: 0.9166 - val_accuracy: 0.7340\n",
            "Epoch 72/80\n",
            "27/27 [==============================] - 21s 793ms/step - loss: 0.3557 - accuracy: 0.8607 - val_loss: 0.8711 - val_accuracy: 0.7220\n",
            "Epoch 73/80\n",
            "27/27 [==============================] - 21s 792ms/step - loss: 0.3668 - accuracy: 0.8614 - val_loss: 0.9011 - val_accuracy: 0.7260\n",
            "Epoch 74/80\n",
            "27/27 [==============================] - 21s 794ms/step - loss: 0.3436 - accuracy: 0.8738 - val_loss: 0.9321 - val_accuracy: 0.7360\n",
            "Epoch 75/80\n",
            "27/27 [==============================] - 22s 806ms/step - loss: 0.3341 - accuracy: 0.8723 - val_loss: 0.9613 - val_accuracy: 0.7000\n",
            "Epoch 76/80\n",
            "27/27 [==============================] - 22s 809ms/step - loss: 0.3353 - accuracy: 0.8794 - val_loss: 0.9121 - val_accuracy: 0.7180\n",
            "Epoch 77/80\n",
            "27/27 [==============================] - 21s 795ms/step - loss: 0.3373 - accuracy: 0.8697 - val_loss: 0.8569 - val_accuracy: 0.7380\n",
            "Epoch 78/80\n",
            "27/27 [==============================] - 21s 789ms/step - loss: 0.3176 - accuracy: 0.8865 - val_loss: 1.0109 - val_accuracy: 0.7200\n",
            "Epoch 79/80\n",
            "27/27 [==============================] - 21s 783ms/step - loss: 0.3369 - accuracy: 0.8831 - val_loss: 0.8839 - val_accuracy: 0.7160\n",
            "Epoch 80/80\n",
            "27/27 [==============================] - 21s 786ms/step - loss: 0.3364 - accuracy: 0.8753 - val_loss: 0.9464 - val_accuracy: 0.7340\n"
          ]
        }
      ]
    },
    {
      "cell_type": "markdown",
      "metadata": {
        "id": "LZPYT-EmVrWo"
      },
      "source": [
        "# Prediction & Results"
      ]
    },
    {
      "cell_type": "code",
      "metadata": {
        "colab": {
          "base_uri": "https://localhost:8080/",
          "height": 281
        },
        "id": "8CfngybnFHQR",
        "outputId": "aee9903c-6a63-4b72-c071-350f8a550f70"
      },
      "source": [
        "plt.figure()\n",
        "plt.plot(range(epochs), history.history['accuracy'], label='Training Accuracy')\n",
        "plt.plot(range(epochs), history.history['val_accuracy'], label='Validation Accuracy')\n",
        "plt.legend(loc='lower right')\n",
        "plt.title('Training and Validation Accuracy')\n",
        "plt.show()"
      ],
      "execution_count": null,
      "outputs": [
        {
          "output_type": "display_data",
          "data": {
            "image/png": "[encoded data removed]",
            "text/plain": [
              "<Figure size 432x288 with 1 Axes>"
            ]
          },
          "metadata": {
            "needs_background": "light"
          }
        }
      ]
    },
    {
      "cell_type": "code",
      "metadata": {
        "colab": {
          "base_uri": "https://localhost:8080/",
          "height": 281
        },
        "id": "B2lhW9mD417g",
        "outputId": "5e8969bb-93fd-4602-a896-367d98f68924"
      },
      "source": [
        "plt.figure()\n",
        "plt.plot(range(epochs), history.history['loss'], label='Training Loss')\n",
        "plt.plot(range(epochs), history.history['val_loss'], label='Validation Loss')\n",
        "plt.legend(loc='upper right')\n",
        "plt.title('Training and Validation Loss')\n",
        "plt.show()"
      ],
      "execution_count": null,
      "outputs": [
        {
          "output_type": "display_data",
          "data": {
            "image/png": "[encoded data removed]",
            "text/plain": [
              "<Figure size 432x288 with 1 Axes>"
            ]
          },
          "metadata": {
            "needs_background": "light"
          }
        }
      ]
    },
    {
      "cell_type": "code",
      "metadata": {
        "colab": {
          "base_uri": "https://localhost:8080/"
        },
        "id": "ZDu0T0BBptIy",
        "outputId": "64212c1a-0e08-4384-9cb8-cac4adc88e1e"
      },
      "source": [
        "for i,name in enumerate(classes):\n",
        "  print('CCR',name.upper(),': ', (np.argmax(model.predict(test_data_gen[i][0]), axis=1) == test_data_gen[i][1]).mean())\n",
        "\n",
        "ACCR = model.evaluate(test_data_gen,verbose=3)[1]\n",
        "print('ACCR: ',ACCR)"
      ],
      "execution_count": null,
      "outputs": [
        {
          "output_type": "stream",
          "name": "stdout",
          "text": [
            "CCR ROSES :  0.87\n",
            "CCR DAISY :  0.9\n",
            "CCR DANDELION :  0.85\n",
            "CCR SUNFLOWERS :  0.88\n",
            "CCR TULIPS :  0.88\n",
            "ACCR:  0.8891385793685913\n"
          ]
        }
      ]
    }
  ]
}